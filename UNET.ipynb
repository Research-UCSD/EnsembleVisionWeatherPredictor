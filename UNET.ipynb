{
 "cells": [
  {
   "cell_type": "markdown",
   "metadata": {
    "editable": true,
    "slideshow": {
     "slide_type": ""
    },
    "tags": []
   },
   "source": [
    "# 🌎 Welcome to the CSE151B Spring 2025 Climate Emulation Competition!\n",
    "\n",
    "Thank you for participating in this exciting challenge focused on building machine learning models to emulate complex climate systems.  \n",
    "This notebook is provided as a **starter template** to help you:\n",
    "\n",
    "- Understand how to load and preprocess the dataset  \n",
    "- Construct a baseline model  \n",
    "- Train and evaluate predictions using a PyTorch Lightning pipeline  \n",
    "- Format your predictions for submission to the leaderboard  \n",
    "\n",
    "You're encouraged to:\n",
    "- Build on this structure or replace it entirely\n",
    "- Try more advanced models and training strategies\n",
    "- Incorporate your own ideas to push the boundaries of what's possible\n",
    "\n",
    "If you're interested in developing within a repository structure and/or use helpful tools like configuration management (based on Hydra) and logging (with Weights & Biases), we recommend checking out the following Github repo. Such a structure can be useful when running multiple experiments and trying various research ideas.\n",
    "\n",
    "👉 [https://github.com/salvaRC/cse151b-spring2025-competition](https://github.com/salvaRC/cse151b-spring2025-competition)\n",
    "\n",
    "Good luck, have fun, and we hope you learn a lot through this process!\n"
   ]
  },
  {
   "cell_type": "markdown",
   "metadata": {},
   "source": [
    "### 📦 Install Required Libraries\n",
    "We install the necessary Python packages for data loading, deep learning, and visualization.\n"
   ]
  },
  {
   "cell_type": "code",
   "execution_count": 1,
   "metadata": {},
   "outputs": [
    {
     "name": "stdout",
     "output_type": "stream",
     "text": [
      "Defaulting to user installation because normal site-packages is not writeable\n",
      "Requirement already satisfied: xarray in /home/dpachchigar/.local/lib/python3.11/site-packages (2025.4.0)\n",
      "Requirement already satisfied: zarr in /home/dpachchigar/.local/lib/python3.11/site-packages (2.18.7)\n",
      "Requirement already satisfied: dask in /opt/conda/lib/python3.11/site-packages (2024.4.1)\n",
      "Requirement already satisfied: lightning in /home/dpachchigar/.local/lib/python3.11/site-packages (2.5.1.post0)\n",
      "Requirement already satisfied: matplotlib in /opt/conda/lib/python3.11/site-packages (3.8.4)\n",
      "Requirement already satisfied: wandb in /home/dpachchigar/.local/lib/python3.11/site-packages (0.19.11)\n",
      "Requirement already satisfied: cftime in /home/dpachchigar/.local/lib/python3.11/site-packages (1.6.4.post1)\n",
      "Requirement already satisfied: einops in /home/dpachchigar/.local/lib/python3.11/site-packages (0.8.1)\n",
      "Requirement already satisfied: vizarr in /home/dpachchigar/.local/lib/python3.11/site-packages (0.1.1)\n",
      "Requirement already satisfied: numpy>=1.24 in /opt/conda/lib/python3.11/site-packages (from xarray) (1.26.4)\n",
      "Requirement already satisfied: packaging>=23.2 in /opt/conda/lib/python3.11/site-packages (from xarray) (24.0)\n",
      "Requirement already satisfied: pandas>=2.1 in /opt/conda/lib/python3.11/site-packages (from xarray) (2.2.3)\n",
      "Requirement already satisfied: asciitree in /home/dpachchigar/.local/lib/python3.11/site-packages (from zarr) (0.3.3)\n",
      "Requirement already satisfied: fasteners in /home/dpachchigar/.local/lib/python3.11/site-packages (from zarr) (0.19)\n",
      "Requirement already satisfied: numcodecs!=0.14.0,!=0.14.1,<0.16,>=0.10.0 in /home/dpachchigar/.local/lib/python3.11/site-packages (from zarr) (0.15.1)\n",
      "Requirement already satisfied: click>=8.1 in /opt/conda/lib/python3.11/site-packages (from dask) (8.1.7)\n",
      "Requirement already satisfied: cloudpickle>=1.5.0 in /opt/conda/lib/python3.11/site-packages (from dask) (3.0.0)\n",
      "Requirement already satisfied: fsspec>=2021.09.0 in /opt/conda/lib/python3.11/site-packages (from dask) (2024.3.1)\n",
      "Requirement already satisfied: partd>=1.2.0 in /opt/conda/lib/python3.11/site-packages (from dask) (1.4.1)\n",
      "Requirement already satisfied: pyyaml>=5.3.1 in /opt/conda/lib/python3.11/site-packages (from dask) (6.0.1)\n",
      "Requirement already satisfied: toolz>=0.10.0 in /opt/conda/lib/python3.11/site-packages (from dask) (0.12.1)\n",
      "Requirement already satisfied: importlib-metadata>=4.13.0 in /opt/conda/lib/python3.11/site-packages (from dask) (7.1.0)\n",
      "Requirement already satisfied: lightning-utilities<2.0,>=0.10.0 in /home/dpachchigar/.local/lib/python3.11/site-packages (from lightning) (0.14.3)\n",
      "Requirement already satisfied: torch<4.0,>=2.1.0 in /home/dpachchigar/.local/lib/python3.11/site-packages (from lightning) (2.7.0)\n",
      "Requirement already satisfied: torchmetrics<3.0,>=0.7.0 in /home/dpachchigar/.local/lib/python3.11/site-packages (from lightning) (1.7.1)\n",
      "Requirement already satisfied: tqdm<6.0,>=4.57.0 in /opt/conda/lib/python3.11/site-packages (from lightning) (4.67.1)\n",
      "Requirement already satisfied: typing-extensions<6.0,>=4.4.0 in /home/dpachchigar/.local/lib/python3.11/site-packages (from lightning) (4.13.2)\n",
      "Requirement already satisfied: pytorch-lightning in /home/dpachchigar/.local/lib/python3.11/site-packages (from lightning) (2.5.1.post0)\n",
      "Requirement already satisfied: contourpy>=1.0.1 in /opt/conda/lib/python3.11/site-packages (from matplotlib) (1.2.1)\n",
      "Requirement already satisfied: cycler>=0.10 in /opt/conda/lib/python3.11/site-packages (from matplotlib) (0.12.1)\n",
      "Requirement already satisfied: fonttools>=4.22.0 in /opt/conda/lib/python3.11/site-packages (from matplotlib) (4.51.0)\n",
      "Requirement already satisfied: kiwisolver>=1.3.1 in /opt/conda/lib/python3.11/site-packages (from matplotlib) (1.4.5)\n",
      "Requirement already satisfied: pillow>=8 in /opt/conda/lib/python3.11/site-packages (from matplotlib) (10.4.0)\n",
      "Requirement already satisfied: pyparsing>=2.3.1 in /opt/conda/lib/python3.11/site-packages (from matplotlib) (3.1.2)\n",
      "Requirement already satisfied: python-dateutil>=2.7 in /opt/conda/lib/python3.11/site-packages (from matplotlib) (2.9.0)\n",
      "Requirement already satisfied: docker-pycreds>=0.4.0 in /home/dpachchigar/.local/lib/python3.11/site-packages (from wandb) (0.4.0)\n",
      "Requirement already satisfied: gitpython!=3.1.29,>=1.0.0 in /opt/conda/lib/python3.11/site-packages (from wandb) (3.1.43)\n",
      "Requirement already satisfied: platformdirs in /opt/conda/lib/python3.11/site-packages (from wandb) (4.2.0)\n",
      "Requirement already satisfied: protobuf!=4.21.0,!=5.28.0,<7,>=3.19.0 in /opt/conda/lib/python3.11/site-packages (from wandb) (5.29.3)\n",
      "Requirement already satisfied: psutil>=5.0.0 in /opt/conda/lib/python3.11/site-packages (from wandb) (5.9.8)\n",
      "Requirement already satisfied: pydantic<3 in /home/dpachchigar/.local/lib/python3.11/site-packages (from wandb) (2.11.4)\n",
      "Requirement already satisfied: requests<3,>=2.0.0 in /opt/conda/lib/python3.11/site-packages (from wandb) (2.32.3)\n",
      "Requirement already satisfied: sentry-sdk>=2.0.0 in /home/dpachchigar/.local/lib/python3.11/site-packages (from wandb) (2.27.0)\n",
      "Requirement already satisfied: setproctitle in /home/dpachchigar/.local/lib/python3.11/site-packages (from wandb) (1.3.6)\n",
      "Requirement already satisfied: setuptools in /opt/conda/lib/python3.11/site-packages (from wandb) (69.5.1)\n",
      "Requirement already satisfied: anywidget>=0.9.13 in /home/dpachchigar/.local/lib/python3.11/site-packages (from vizarr) (0.9.18)\n",
      "Requirement already satisfied: ipywidgets>=7.6.0 in /opt/conda/lib/python3.11/site-packages (from anywidget>=0.9.13->vizarr) (8.1.2)\n",
      "Requirement already satisfied: psygnal>=0.8.1 in /home/dpachchigar/.local/lib/python3.11/site-packages (from anywidget>=0.9.13->vizarr) (0.13.0)\n",
      "Requirement already satisfied: six>=1.4.0 in /opt/conda/lib/python3.11/site-packages (from docker-pycreds>=0.4.0->wandb) (1.16.0)\n",
      "Requirement already satisfied: aiohttp!=4.0.0a0,!=4.0.0a1 in /opt/conda/lib/python3.11/site-packages (from fsspec[http]<2026.0,>=2022.5.0->lightning) (3.9.3)\n",
      "Requirement already satisfied: gitdb<5,>=4.0.1 in /opt/conda/lib/python3.11/site-packages (from gitpython!=3.1.29,>=1.0.0->wandb) (4.0.11)\n",
      "Requirement already satisfied: zipp>=0.5 in /opt/conda/lib/python3.11/site-packages (from importlib-metadata>=4.13.0->dask) (3.17.0)\n",
      "Requirement already satisfied: deprecated in /home/dpachchigar/.local/lib/python3.11/site-packages (from numcodecs!=0.14.0,!=0.14.1,<0.16,>=0.10.0->zarr) (1.2.18)\n",
      "Requirement already satisfied: pytz>=2020.1 in /opt/conda/lib/python3.11/site-packages (from pandas>=2.1->xarray) (2024.1)\n",
      "Requirement already satisfied: tzdata>=2022.7 in /opt/conda/lib/python3.11/site-packages (from pandas>=2.1->xarray) (2024.1)\n",
      "Requirement already satisfied: locket in /opt/conda/lib/python3.11/site-packages (from partd>=1.2.0->dask) (1.0.0)\n",
      "Requirement already satisfied: annotated-types>=0.6.0 in /home/dpachchigar/.local/lib/python3.11/site-packages (from pydantic<3->wandb) (0.7.0)\n",
      "Requirement already satisfied: pydantic-core==2.33.2 in /home/dpachchigar/.local/lib/python3.11/site-packages (from pydantic<3->wandb) (2.33.2)\n",
      "Requirement already satisfied: typing-inspection>=0.4.0 in /home/dpachchigar/.local/lib/python3.11/site-packages (from pydantic<3->wandb) (0.4.0)\n",
      "Requirement already satisfied: charset-normalizer<4,>=2 in /opt/conda/lib/python3.11/site-packages (from requests<3,>=2.0.0->wandb) (3.3.2)\n",
      "Requirement already satisfied: idna<4,>=2.5 in /opt/conda/lib/python3.11/site-packages (from requests<3,>=2.0.0->wandb) (3.7)\n",
      "Requirement already satisfied: urllib3<3,>=1.21.1 in /opt/conda/lib/python3.11/site-packages (from requests<3,>=2.0.0->wandb) (2.2.1)\n",
      "Requirement already satisfied: certifi>=2017.4.17 in /opt/conda/lib/python3.11/site-packages (from requests<3,>=2.0.0->wandb) (2025.1.31)\n",
      "Requirement already satisfied: filelock in /home/dpachchigar/.local/lib/python3.11/site-packages (from torch<4.0,>=2.1.0->lightning) (3.18.0)\n",
      "Requirement already satisfied: sympy>=1.13.3 in /home/dpachchigar/.local/lib/python3.11/site-packages (from torch<4.0,>=2.1.0->lightning) (1.14.0)\n",
      "Requirement already satisfied: networkx in /opt/conda/lib/python3.11/site-packages (from torch<4.0,>=2.1.0->lightning) (3.3)\n",
      "Requirement already satisfied: jinja2 in /opt/conda/lib/python3.11/site-packages (from torch<4.0,>=2.1.0->lightning) (3.1.3)\n",
      "Requirement already satisfied: nvidia-cuda-nvrtc-cu12==12.6.77 in /home/dpachchigar/.local/lib/python3.11/site-packages (from torch<4.0,>=2.1.0->lightning) (12.6.77)\n",
      "Requirement already satisfied: nvidia-cuda-runtime-cu12==12.6.77 in /home/dpachchigar/.local/lib/python3.11/site-packages (from torch<4.0,>=2.1.0->lightning) (12.6.77)\n",
      "Requirement already satisfied: nvidia-cuda-cupti-cu12==12.6.80 in /home/dpachchigar/.local/lib/python3.11/site-packages (from torch<4.0,>=2.1.0->lightning) (12.6.80)\n",
      "Requirement already satisfied: nvidia-cudnn-cu12==9.5.1.17 in /home/dpachchigar/.local/lib/python3.11/site-packages (from torch<4.0,>=2.1.0->lightning) (9.5.1.17)\n",
      "Requirement already satisfied: nvidia-cublas-cu12==12.6.4.1 in /home/dpachchigar/.local/lib/python3.11/site-packages (from torch<4.0,>=2.1.0->lightning) (12.6.4.1)\n",
      "Requirement already satisfied: nvidia-cufft-cu12==11.3.0.4 in /home/dpachchigar/.local/lib/python3.11/site-packages (from torch<4.0,>=2.1.0->lightning) (11.3.0.4)\n",
      "Requirement already satisfied: nvidia-curand-cu12==10.3.7.77 in /home/dpachchigar/.local/lib/python3.11/site-packages (from torch<4.0,>=2.1.0->lightning) (10.3.7.77)\n",
      "Requirement already satisfied: nvidia-cusolver-cu12==11.7.1.2 in /home/dpachchigar/.local/lib/python3.11/site-packages (from torch<4.0,>=2.1.0->lightning) (11.7.1.2)\n",
      "Requirement already satisfied: nvidia-cusparse-cu12==12.5.4.2 in /home/dpachchigar/.local/lib/python3.11/site-packages (from torch<4.0,>=2.1.0->lightning) (12.5.4.2)\n",
      "Requirement already satisfied: nvidia-cusparselt-cu12==0.6.3 in /home/dpachchigar/.local/lib/python3.11/site-packages (from torch<4.0,>=2.1.0->lightning) (0.6.3)\n",
      "Requirement already satisfied: nvidia-nccl-cu12==2.26.2 in /home/dpachchigar/.local/lib/python3.11/site-packages (from torch<4.0,>=2.1.0->lightning) (2.26.2)\n",
      "Requirement already satisfied: nvidia-nvtx-cu12==12.6.77 in /home/dpachchigar/.local/lib/python3.11/site-packages (from torch<4.0,>=2.1.0->lightning) (12.6.77)\n",
      "Requirement already satisfied: nvidia-nvjitlink-cu12==12.6.85 in /home/dpachchigar/.local/lib/python3.11/site-packages (from torch<4.0,>=2.1.0->lightning) (12.6.85)\n",
      "Requirement already satisfied: nvidia-cufile-cu12==1.11.1.6 in /home/dpachchigar/.local/lib/python3.11/site-packages (from torch<4.0,>=2.1.0->lightning) (1.11.1.6)\n",
      "Requirement already satisfied: triton==3.3.0 in /home/dpachchigar/.local/lib/python3.11/site-packages (from torch<4.0,>=2.1.0->lightning) (3.3.0)\n",
      "Requirement already satisfied: aiosignal>=1.1.2 in /opt/conda/lib/python3.11/site-packages (from aiohttp!=4.0.0a0,!=4.0.0a1->fsspec[http]<2026.0,>=2022.5.0->lightning) (1.3.1)\n",
      "Requirement already satisfied: attrs>=17.3.0 in /opt/conda/lib/python3.11/site-packages (from aiohttp!=4.0.0a0,!=4.0.0a1->fsspec[http]<2026.0,>=2022.5.0->lightning) (23.2.0)\n",
      "Requirement already satisfied: frozenlist>=1.1.1 in /opt/conda/lib/python3.11/site-packages (from aiohttp!=4.0.0a0,!=4.0.0a1->fsspec[http]<2026.0,>=2022.5.0->lightning) (1.4.1)\n",
      "Requirement already satisfied: multidict<7.0,>=4.5 in /opt/conda/lib/python3.11/site-packages (from aiohttp!=4.0.0a0,!=4.0.0a1->fsspec[http]<2026.0,>=2022.5.0->lightning) (6.0.5)\n",
      "Requirement already satisfied: yarl<2.0,>=1.0 in /opt/conda/lib/python3.11/site-packages (from aiohttp!=4.0.0a0,!=4.0.0a1->fsspec[http]<2026.0,>=2022.5.0->lightning) (1.9.4)\n",
      "Requirement already satisfied: smmap<6,>=3.0.1 in /opt/conda/lib/python3.11/site-packages (from gitdb<5,>=4.0.1->gitpython!=3.1.29,>=1.0.0->wandb) (5.0.0)\n",
      "Requirement already satisfied: comm>=0.1.3 in /opt/conda/lib/python3.11/site-packages (from ipywidgets>=7.6.0->anywidget>=0.9.13->vizarr) (0.2.2)\n",
      "Requirement already satisfied: ipython>=6.1.0 in /opt/conda/lib/python3.11/site-packages (from ipywidgets>=7.6.0->anywidget>=0.9.13->vizarr) (8.22.2)\n",
      "Requirement already satisfied: traitlets>=4.3.1 in /opt/conda/lib/python3.11/site-packages (from ipywidgets>=7.6.0->anywidget>=0.9.13->vizarr) (5.14.2)\n",
      "Requirement already satisfied: widgetsnbextension~=4.0.10 in /opt/conda/lib/python3.11/site-packages (from ipywidgets>=7.6.0->anywidget>=0.9.13->vizarr) (4.0.10)\n",
      "Requirement already satisfied: jupyterlab-widgets~=3.0.10 in /opt/conda/lib/python3.11/site-packages (from ipywidgets>=7.6.0->anywidget>=0.9.13->vizarr) (3.0.10)\n",
      "Requirement already satisfied: mpmath<1.4,>=1.1.0 in /opt/conda/lib/python3.11/site-packages (from sympy>=1.13.3->torch<4.0,>=2.1.0->lightning) (1.3.0)\n",
      "Requirement already satisfied: wrapt<2,>=1.10 in /opt/conda/lib/python3.11/site-packages (from deprecated->numcodecs!=0.14.0,!=0.14.1,<0.16,>=0.10.0->zarr) (1.17.2)\n",
      "Requirement already satisfied: MarkupSafe>=2.0 in /opt/conda/lib/python3.11/site-packages (from jinja2->torch<4.0,>=2.1.0->lightning) (2.1.5)\n",
      "Requirement already satisfied: decorator in /opt/conda/lib/python3.11/site-packages (from ipython>=6.1.0->ipywidgets>=7.6.0->anywidget>=0.9.13->vizarr) (5.1.1)\n",
      "Requirement already satisfied: jedi>=0.16 in /opt/conda/lib/python3.11/site-packages (from ipython>=6.1.0->ipywidgets>=7.6.0->anywidget>=0.9.13->vizarr) (0.19.1)\n",
      "Requirement already satisfied: matplotlib-inline in /opt/conda/lib/python3.11/site-packages (from ipython>=6.1.0->ipywidgets>=7.6.0->anywidget>=0.9.13->vizarr) (0.1.7)\n",
      "Requirement already satisfied: prompt-toolkit<3.1.0,>=3.0.41 in /opt/conda/lib/python3.11/site-packages (from ipython>=6.1.0->ipywidgets>=7.6.0->anywidget>=0.9.13->vizarr) (3.0.42)\n",
      "Requirement already satisfied: pygments>=2.4.0 in /opt/conda/lib/python3.11/site-packages (from ipython>=6.1.0->ipywidgets>=7.6.0->anywidget>=0.9.13->vizarr) (2.17.2)\n",
      "Requirement already satisfied: stack-data in /opt/conda/lib/python3.11/site-packages (from ipython>=6.1.0->ipywidgets>=7.6.0->anywidget>=0.9.13->vizarr) (0.6.2)\n",
      "Requirement already satisfied: pexpect>4.3 in /opt/conda/lib/python3.11/site-packages (from ipython>=6.1.0->ipywidgets>=7.6.0->anywidget>=0.9.13->vizarr) (4.9.0)\n",
      "Requirement already satisfied: parso<0.9.0,>=0.8.3 in /opt/conda/lib/python3.11/site-packages (from jedi>=0.16->ipython>=6.1.0->ipywidgets>=7.6.0->anywidget>=0.9.13->vizarr) (0.8.4)\n",
      "Requirement already satisfied: ptyprocess>=0.5 in /opt/conda/lib/python3.11/site-packages (from pexpect>4.3->ipython>=6.1.0->ipywidgets>=7.6.0->anywidget>=0.9.13->vizarr) (0.7.0)\n",
      "Requirement already satisfied: wcwidth in /opt/conda/lib/python3.11/site-packages (from prompt-toolkit<3.1.0,>=3.0.41->ipython>=6.1.0->ipywidgets>=7.6.0->anywidget>=0.9.13->vizarr) (0.2.13)\n",
      "Requirement already satisfied: executing>=1.2.0 in /opt/conda/lib/python3.11/site-packages (from stack-data->ipython>=6.1.0->ipywidgets>=7.6.0->anywidget>=0.9.13->vizarr) (2.0.1)\n",
      "Requirement already satisfied: asttokens>=2.1.0 in /opt/conda/lib/python3.11/site-packages (from stack-data->ipython>=6.1.0->ipywidgets>=7.6.0->anywidget>=0.9.13->vizarr) (2.4.1)\n",
      "Requirement already satisfied: pure-eval in /opt/conda/lib/python3.11/site-packages (from stack-data->ipython>=6.1.0->ipywidgets>=7.6.0->anywidget>=0.9.13->vizarr) (0.2.2)\n",
      "Note: you may need to restart the kernel to use updated packages.\n"
     ]
    }
   ],
   "source": [
    "%pip install xarray zarr dask lightning matplotlib wandb cftime einops vizarr\n"
   ]
  },
  {
   "cell_type": "code",
   "execution_count": 2,
   "metadata": {},
   "outputs": [],
   "source": [
    "# lets visuzlize a zarr file\n",
    "import vizarr\n",
    "import zarr"
   ]
  },
  {
   "cell_type": "code",
   "execution_count": 3,
   "metadata": {},
   "outputs": [],
   "source": [
    "\n",
    "import os\n",
    "from datetime import datetime\n",
    "import numpy as np\n",
    "import pandas as pd\n",
    "import xarray as xr\n",
    "import dask.array as da\n",
    "import torch\n",
    "import torch.nn as nn\n",
    "import torch.optim as optim\n",
    "import matplotlib.pyplot as plt\n",
    "from torch.utils.data import Dataset, DataLoader\n",
    "import lightning.pytorch as pl\n",
    "import pdb\n",
    "import torch\n",
    "import torch.nn as nn\n",
    "import torch.nn.functional as F\n",
    "from lightning.pytorch.callbacks import EarlyStopping"
   ]
  },
  {
   "cell_type": "markdown",
   "metadata": {},
   "source": [
    "### ⚙️ Configuration Setup  \n",
    "Define all model, data, and training hyperparameters in one place for easy control and reproducibility.\n",
    "\n",
    "### 📊 Data Configuration\n",
    "\n",
    "We define the dataset settings used for training and evaluation. This includes:\n",
    "\n",
    "- **`path`**: Path to the `.zarr` dataset containing monthly climate variables from CMIP6 simulations.\n",
    "- **`input_vars`**: Climate forcing variables (e.g., CO₂, CH₄) used as model inputs.\n",
    "- **`output_vars`**: Target variables to predict — surface air temperature (`tas`) and precipitation (`pr`).\n",
    "- **`target_member_id`**: Ensemble member to use from the simulations (each SSP has 3) for target variables.\n",
    "- **`train_ssps`**: SSP scenarios used for training (low to high emissions).\n",
    "- **`test_ssp`**: Scenario held out for evaluation (Must be set to SSP245).\n",
    "- **`test_months`**: Number of months to include in the test split (Must be set to 120).\n",
    "- **`batch_size`** and **`num_workers`**: Data loading parameters for PyTorch training.\n",
    "\n",
    "These settings reflect how the challenge is structured: models must learn from some emission scenarios and generalize to unseen ones.\n",
    "\n",
    "> ⚠️ **Important:** Do **not modify** the following test settings:\n",
    ">\n",
    "> - `test_ssp` must remain **`ssp245`**, which is the held-out evaluation scenario.\n",
    "> - `test_months` must be **`120`**, corresponding to the last 10 years (monthly resolution) of the scenario.\n",
    "\n"
   ]
  },
  {
   "cell_type": "code",
   "execution_count": 29,
   "metadata": {},
   "outputs": [],
   "source": [
    "early_stopping = EarlyStopping(\n",
    "    monitor='val/tas/rmse',  # You'll need to calculate and log val_rmse in your LightningModule\n",
    "    min_delta=0.001,       # Minimum change in the monitored quantity to qualify as an improvement.\n",
    "    patience=5,          # Stop after 5 epochs of no improvement\n",
    "    verbose=True,\n",
    "    mode='min'           # Assuming lower RMSE is better\n",
    ")"
   ]
  },
  {
   "cell_type": "code",
   "execution_count": 30,
   "metadata": {
    "editable": true,
    "slideshow": {
     "slide_type": ""
    },
    "tags": []
   },
   "outputs": [
    {
     "name": "stderr",
     "output_type": "stream",
     "text": [
      "Seed set to 42\n"
     ]
    }
   ],
   "source": [
    "config = {\n",
    "    \"data\": {\n",
    "        \"path\": \"processed_data_cse151b_v2_corrupted_ssp245/processed_data_cse151b_v2_corrupted_ssp245.zarr\",\n",
    "        \"input_vars\": [\"CO2\", \"SO2\", \"CH4\", \"BC\", \"rsdt\"],\n",
    "        \"output_vars\": [\"tas\"], \n",
    "        \"target_member_id\": 0, \n",
    "        \"train_ssps\": [\"ssp126\", \"ssp370\", \"ssp585\"],\n",
    "        \"test_ssp\": \"ssp245\",\n",
    "        \"test_months\": 360, \n",
    "        \"batch_size\": 64, \n",
    "        \"num_workers\": 0,\n",
    "        \"num_fft_freq_bins\": 10, \n",
    "    },\n",
    "    \"model\": { \n",
    "        \"type\": \"unet\", \n",
    "       #need hyperparams \n",
    "    },\n",
    "    \"training\": {\n",
    "        \"lr\": 1e-4, # MODIFIED: Set as per user's provided config\n",
    "    },\n",
    "    \"trainer\": {\n",
    "        \"max_epochs\": 100, \n",
    "        \"accelerator\": \"auto\",\n",
    "        \"devices\": \"auto\",\n",
    "        \"precision\": 16, \n",
    "        \"deterministic\": True,\n",
    "        \"num_sanity_val_steps\": 0,\n",
    "        \"callbacks\": []\n",
    "    },\n",
    "    \"seed\": 42,\n",
    "}\n",
    "\n",
    "\n",
    "pl.seed_everything(config[\"seed\"])\n",
    "config[\"trainer\"][\"callbacks\"].append(early_stopping)"
   ]
  },
  {
   "cell_type": "markdown",
   "metadata": {},
   "source": [
    "### 🔧 Spatial Weighting Utility Function\n",
    "\n",
    "This cell sets up utility functions for reproducibility and spatial weighting:\n",
    "\n",
    "- **`get_lat_weights(latitude_values)`**: Computes cosine-based area weights for each latitude, accounting for the Earth's curvature. This is critical for evaluating global climate metrics fairly — grid cells near the equator represent larger surface areas than those near the poles.\n"
   ]
  },
  {
   "cell_type": "code",
   "execution_count": 6,
   "metadata": {},
   "outputs": [],
   "source": [
    "def get_lat_weights(latitude_values):\n",
    "    lat_rad = np.deg2rad(latitude_values)\n",
    "    weights = np.cos(lat_rad)\n",
    "    return weights / np.mean(weights)"
   ]
  },
  {
   "cell_type": "markdown",
   "metadata": {},
   "source": [
    "### 🧠 SimpleCNN: A Residual Convolutional Baseline\n",
    "\n",
    "This is a lightweight baseline model designed to capture spatial patterns in global climate data using convolutional layers.\n",
    "\n",
    "- The architecture starts with a **convolution + batch norm + ReLU** block to process the input channels.\n",
    "- It then applies a series of **residual blocks** to extract increasingly abstract spatial features. These help preserve gradient flow during training.\n",
    "- Finally, a few convolutional layers reduce the feature maps down to the desired number of output channels (`tas` and `pr`).\n",
    "\n",
    "This model only serves as a **simple baseline for climate emulation**. \n",
    "\n",
    "We encourage you to build and experiment with your own models and ideas.\n"
   ]
  },
  {
   "cell_type": "code",
   "execution_count": 7,
   "metadata": {
    "editable": true,
    "slideshow": {
     "slide_type": ""
    },
    "tags": []
   },
   "outputs": [
    {
     "name": "stdout",
     "output_type": "stream",
     "text": [
      "Number of ensemble members: 3\n"
     ]
    }
   ],
   "source": [
    "ds = xr.open_zarr(config[\"data\"][\"path\"], consolidated=False, chunks={\"time\": 24})\n",
    "# Add this line to print the number of member IDs\n",
    "if 'member_id' in ds.coords:\n",
    "    num_members = len(ds.coords['member_id'].values)\n",
    "    print(f\"Number of ensemble members: {num_members}\")\n",
    "else:\n",
    "    print(\"The 'member_id' coordinate was not found in the dataset.\")"
   ]
  },
  {
   "cell_type": "code",
   "execution_count": 8,
   "metadata": {},
   "outputs": [],
   "source": [
    "class UNET\n",
    "    Convolutional LSTM Cell.\n",
    "    Adapted from various sources.\n",
    "    \"\"\"\n",
    "    def __init__(self, input_dim, hidden_dim, kernel_size, bias=True):\n",
    "        \"\"\"\n",
    "        Initialize ConvLSTM cell.\n",
    "        Parameters\n",
    "        ----------\n",
    "        input_dim: int\n",
    "            Number of channels of input tensor.\n",
    "        hidden_dim: int\n",
    "            Number of channels of hidden state.\n",
    "        kernel_size: (int, int)\n",
    "            Size of the convolutional kernel.\n",
    "        bias: bool\n",
    "            Whether or not to add the bias.\n",
    "        \"\"\"\n",
    "        super(ConvLSTMCell, self).__init__()\n",
    "\n",
    "        self.input_dim = input_dim\n",
    "        self.hidden_dim = hidden_dim\n",
    "\n",
    "        self.kernel_size = kernel_size\n",
    "        self.padding = kernel_size[0] // 2, kernel_size[1] // 2 # Ensure same padding\n",
    "        self.bias = bias\n",
    "\n",
    "        # Convolution for combined inputs (input_t and h_t-1)\n",
    "        # It computes all gates (input, forget, output, cell) in one go\n",
    "        self.conv = nn.Conv2d(in_channels=self.input_dim + self.hidden_dim,\n",
    "                              out_channels=4 * self.hidden_dim, # 4 gates\n",
    "                              kernel_size=self.kernel_size,\n",
    "                              padding=self.padding,\n",
    "                              bias=self.bias)\n",
    "\n",
    "    def forward(self, input_tensor, cur_state):\n",
    "        \"\"\"\n",
    "        Forward pass of the ConvLSTM cell.\n",
    "        Parameters\n",
    "        ----------\n",
    "        input_tensor: torch.Tensor\n",
    "            Input tensor for the current time step (b, c, h, w)\n",
    "        cur_state: tuple\n",
    "            Tuple containing the previous hidden state (h_cur) and cell state (c_cur)\n",
    "        Returns\n",
    "        -------\n",
    "        h_next, c_next: torch.Tensor\n",
    "            Next hidden state and cell state\n",
    "        \"\"\"\n",
    "        h_cur, c_cur = cur_state\n",
    "        \n",
    "        # Concatenate input and hidden state\n",
    "        combined = torch.cat([input_tensor, h_cur], dim=1)  # (b, input_dim + hidden_dim, h, w)\n",
    "        \n",
    "        combined_conv = self.conv(combined) # (b, 4 * hidden_dim, h, w)\n",
    "        \n",
    "        # Split the convoluted tensor into 4 parts for the 4 gates\n",
    "        cc_i, cc_f, cc_o, cc_g = torch.split(combined_conv, self.hidden_dim, dim=1)\n",
    "        \n",
    "        # Apply activations\n",
    "        i = torch.sigmoid(cc_i) # Input gate\n",
    "        f = torch.sigmoid(cc_f) # Forget gate\n",
    "        o = torch.sigmoid(cc_o) # Output gate\n",
    "        g = torch.tanh(cc_g)    # Cell gate (candidate cell state)\n",
    "\n",
    "        # Calculate next cell state and hidden state\n",
    "        c_next = f * c_cur + i * g\n",
    "        h_next = o * torch.tanh(c_next)\n",
    "\n",
    "        return h_next, c_next\n",
    "\n",
    "    def init_hidden(self, batch_size, image_size):\n",
    "        \"\"\"\n",
    "        Initializes hidden state and cell state to zeros.\n",
    "        Parameters\n",
    "        ----------\n",
    "        batch_size: int\n",
    "            Batch size.\n",
    "        image_size: (int, int)\n",
    "            Height and width of the image.\n",
    "        Returns\n",
    "        -------\n",
    "        (h, c): tuple of torch.Tensor\n",
    "            Initial hidden and cell states.\n",
    "        \"\"\"\n",
    "        height, width = image_size\n",
    "        return (torch.zeros(batch_size, self.hidden_dim, height, width, device=self.conv.weight.device),\n",
    "                torch.zeros(batch_size, self.hidden_dim, height, width, device=self.conv.weight.device))\n",
    "\n",
    "\n",
    "class ConvLSTMModel(nn.Module):\n",
    "    def __init__(self, in_channels_effective, cnn_encoder_channels, cnn_encoder_kernels,\n",
    "                 conv_lstm_input_dim, conv_lstm_hidden_dims, conv_lstm_kernel_sizes,\n",
    "                 cnn_decoder_channels, cnn_decoder_kernels, final_decoder_kernel, # Added final_decoder_kernel here\n",
    "                 img_h, img_w, out_channels):\n",
    "        super(ConvLSTMModel, self).__init__()\n",
    "\n",
    "        self.img_h = img_h\n",
    "        self.img_w = img_w\n",
    "        self.out_channels = out_channels\n",
    "\n",
    "        # CNN Encoder\n",
    "        encoder_layers = []\n",
    "        current_channels = in_channels_effective\n",
    "        for i, out_ch in enumerate(cnn_encoder_channels):\n",
    "            encoder_layers.append(\n",
    "                nn.Conv2d(in_channels=current_channels, \n",
    "                          out_channels=out_ch, \n",
    "                          kernel_size=cnn_encoder_kernels[i], \n",
    "                          padding=cnn_encoder_kernels[i]//2) \n",
    "            )\n",
    "            encoder_layers.append(nn.ReLU(inplace=True))\n",
    "            current_channels = out_ch\n",
    "        self.encoder = nn.Sequential(*encoder_layers)\n",
    "\n",
    "        # ConvLSTM Layer(s)\n",
    "        self.conv_lstm_cells = nn.ModuleList()\n",
    "        lstm_input_dim_current = conv_lstm_input_dim \n",
    "        \n",
    "        if not isinstance(conv_lstm_hidden_dims, list):\n",
    "            conv_lstm_hidden_dims = [conv_lstm_hidden_dims] \n",
    "        if not isinstance(conv_lstm_kernel_sizes, list) or \\\n",
    "           (conv_lstm_kernel_sizes and not isinstance(conv_lstm_kernel_sizes[0], tuple)):\n",
    "            conv_lstm_kernel_sizes = [conv_lstm_kernel_sizes] * len(conv_lstm_hidden_dims)\n",
    "\n",
    "\n",
    "        for i in range(len(conv_lstm_hidden_dims)):\n",
    "            self.conv_lstm_cells.append(\n",
    "                ConvLSTMCell(input_dim=lstm_input_dim_current,\n",
    "                             hidden_dim=conv_lstm_hidden_dims[i],\n",
    "                             kernel_size=conv_lstm_kernel_sizes[i], \n",
    "                             bias=True)\n",
    "            )\n",
    "            lstm_input_dim_current = conv_lstm_hidden_dims[i] \n",
    "\n",
    "        # CNN Decoder\n",
    "        decoder_layers = []\n",
    "        current_channels_decoder = conv_lstm_hidden_dims[-1] \n",
    "        \n",
    "        for i, out_ch in enumerate(cnn_decoder_channels): # Iterate through all specified decoder channels\n",
    "            decoder_layers.append(\n",
    "                nn.Conv2d(in_channels=current_channels_decoder,\n",
    "                          out_channels=out_ch,\n",
    "                          kernel_size=cnn_decoder_kernels[i],\n",
    "                          padding=cnn_decoder_kernels[i]//2)\n",
    "            )\n",
    "            decoder_layers.append(nn.ReLU(inplace=True))\n",
    "            current_channels_decoder = out_ch\n",
    "        \n",
    "        # Final decoder layer to get to out_channels\n",
    "        decoder_layers.append(\n",
    "            nn.Conv2d(in_channels=current_channels_decoder,\n",
    "                      out_channels=self.out_channels, \n",
    "                      kernel_size=final_decoder_kernel, # Use the dedicated kernel size\n",
    "                      padding=final_decoder_kernel//2)\n",
    "        )\n",
    "        self.decoder = nn.Sequential(*decoder_layers)\n",
    "        \n",
    "        self.h_states = None\n",
    "        self.c_states = None\n",
    "\n",
    "\n",
    "    def _init_hidden_states(self, batch_size, device):\n",
    "        \"\"\"Initializes hidden states for all LSTM layers.\"\"\"\n",
    "        self.h_states = []\n",
    "        self.c_states = []\n",
    "        image_size_for_lstm = (self.img_h, self.img_w) \n",
    "\n",
    "        for cell in self.conv_lstm_cells:\n",
    "            h, c = cell.init_hidden(batch_size, image_size_for_lstm)\n",
    "            self.h_states.append(h.to(device))\n",
    "            self.c_states.append(c.to(device))\n",
    "\n",
    "    def forward(self, x, hidden_state_tuple=None): # Renamed for clarity\n",
    "        \"\"\"\n",
    "        Processes a single time-step input.\n",
    "        x: (batch, in_channels_effective, height, width)\n",
    "        hidden_state_tuple: Optional tuple of (list_of_h_states, list_of_c_states) for all LSTM layers.\n",
    "                            If None, states are initialized. This is for one time step.\n",
    "        \"\"\"\n",
    "        batch_size = x.size(0)\n",
    "        device = x.device\n",
    "\n",
    "        # 1. CNN Encoder\n",
    "        encoded_x = self.encoder(x) \n",
    "\n",
    "        # 2. ConvLSTM Layer(s)\n",
    "        # Initialize hidden states if not provided or if batch size changed\n",
    "        # For single time-step processing managed by LightningModule, \n",
    "        # we typically re-initialize states for each batch.\n",
    "        # If you were to process sequences within this model, state management would differ.\n",
    "        \n",
    "        # Always re-initialize for each forward pass if processing independent time steps\n",
    "        # This ensures that each sample in the batch starts with a fresh LSTM state.\n",
    "        # If your ClimateEmulationModule is designed to pass states for sequential data,\n",
    "        # then you'd use the hidden_state_tuple.\n",
    "        # For now, assuming independent samples per batch call:\n",
    "        self._init_hidden_states(batch_size, device) \n",
    "        current_h_states = self.h_states\n",
    "        current_c_states = self.c_states\n",
    "\n",
    "        # If you want to enable stateful processing across calls (e.g., for sequences handled outside)\n",
    "        # you would uncomment the below and pass the states appropriately.\n",
    "        # if hidden_state_tuple is None:\n",
    "        #     self._init_hidden_states(batch_size, device)\n",
    "        #     current_h_states = self.h_states\n",
    "        #     current_c_states = self.c_states\n",
    "        # else:\n",
    "        #     current_h_states, current_c_states = hidden_state_tuple\n",
    "        #     current_h_states = [h.to(device) for h in current_h_states]\n",
    "        #     current_c_states = [c.to(device) for c in current_c_states]\n",
    "\n",
    "        lstm_input = encoded_x\n",
    "        next_h_states_list = [] # Store next states for all layers\n",
    "        next_c_states_list = []\n",
    "\n",
    "        for i, cell in enumerate(self.conv_lstm_cells):\n",
    "            h_next_layer, c_next_layer = cell(input_tensor=lstm_input,\n",
    "                                              cur_state=(current_h_states[i], current_c_states[i]))\n",
    "            next_h_states_list.append(h_next_layer)\n",
    "            next_c_states_list.append(c_next_layer)\n",
    "            lstm_input = h_next_layer # Output of current LSTM layer is input to next\n",
    "\n",
    "        # Update instance states (optional if you don't need them outside this call for single-step)\n",
    "        self.h_states = next_h_states_list \n",
    "        self.c_states = next_c_states_list\n",
    "\n",
    "        # 3. CNN Decoder\n",
    "        # Use the output (hidden state) of the last LSTM layer\n",
    "        output = self.decoder(self.h_states[-1]) \n",
    "\n",
    "        # MODIFIED: Return only the output tensor\n",
    "        return output"
   ]
  },
  {
   "cell_type": "markdown",
   "metadata": {
    "editable": true,
    "slideshow": {
     "slide_type": ""
    },
    "tags": []
   },
   "source": [
    "### 📐 Normalizer: Z-Score Scaling for Climate Inputs & Outputs\n",
    "\n",
    "This class handles **Z-score normalization**, a crucial preprocessing step for stable and efficient neural network training:\n",
    "\n",
    "- **`set_input_statistics(mean, std)` / `set_output_statistics(...)`**: Store the mean and standard deviation computed from the training data for later use.\n",
    "- **`normalize(data, data_type)`**: Standardizes the data using `(x - mean) / std`. This is applied separately to inputs and outputs.\n",
    "- **`inverse_transform_output(data)`**: Converts model predictions back to the original physical units (e.g., Kelvin for temperature, mm/day for precipitation).\n",
    "\n",
    "Normalizing the data ensures the model sees inputs with similar dynamic ranges and avoids biases caused by different variable scales.\n"
   ]
  },
  {
   "cell_type": "code",
   "execution_count": 9,
   "metadata": {},
   "outputs": [],
   "source": [
    "class Normalizer:\n",
    "    def __init__(self, log_transform_input=False, log_transform_output=False):\n",
    "        self.mean_in, self.std_in = None, None\n",
    "        self.mean_out, self.std_out = None, None\n",
    "        self.log_transform_input = log_transform_input\n",
    "        self.log_transform_output = log_transform_output\n",
    "        self.epsilon = 1e-10  # small constant to avoid log(0)\n",
    "\n",
    "    def set_input_statistics(self, mean, std):\n",
    "        self.mean_in = mean\n",
    "        self.std_in = std\n",
    "\n",
    "    def set_output_statistics(self, mean, std):\n",
    "        self.mean_out = mean\n",
    "        self.std_out = std\n",
    "\n",
    "    def normalize(self, data, data_type):\n",
    "        if data_type == \"input\":\n",
    "            if self.log_transform_input:\n",
    "                data = np.log(data + self.epsilon)\n",
    "            return (data - self.mean_in) / self.std_in\n",
    "        elif data_type == \"output\":\n",
    "            if self.log_transform_output:\n",
    "                data = np.log(data + self.epsilon)\n",
    "            return (data - self.mean_out) / self.std_out\n",
    "\n",
    "    def inverse_transform_output(self, data):\n",
    "        denormalized = data * self.std_out + self.mean_out\n",
    "        if self.log_transform_output:\n",
    "            return np.exp(denormalized) - self.epsilon\n",
    "        return denormalized\n",
    "\n",
    "    def inverse_transform_input(self, data):\n",
    "        denormalized = data * self.std_in + self.mean_in\n",
    "        if self.log_transform_input:\n",
    "            return np.exp(denormalized) - self.epsilon\n",
    "        return denormalized"
   ]
  },
  {
   "cell_type": "markdown",
   "metadata": {},
   "source": [
    "### 🌍 Data Module: Loading, Normalization, and Splitting\n",
    "\n",
    "This section handles the entire data pipeline, from loading the `.zarr` dataset to preparing PyTorch-ready DataLoaders.\n",
    "\n",
    "#### `ClimateDataset`\n",
    "- A simple PyTorch `Dataset` wrapper that preloads the entire (normalized) dataset into memory using Dask.\n",
    "- Converts the data to PyTorch tensors and handles any `NaN` checks up front.\n",
    "\n",
    "#### `ClimateDataModule`\n",
    "A PyTorch Lightning `DataModule` that handles:\n",
    "- ✅ **Loading data** from different SSP scenarios and ensemble members\n",
    "- ✅ **Broadcasting non-spatial inputs** (like CO₂) to match spatial grid size\n",
    "- ✅ **Normalization** using mean/std computed from training data only\n",
    "- ✅ **Splitting** into training, validation, and test sets:\n",
    "  - Training: All months from selected SSPs (except last 10 years of SSP370)\n",
    "  - Validation: Last 10 years (120 months) of SSP370\n",
    "  - Test: Last 10 years of SSP245 (unseen scenario)\n",
    "- ✅ **Batching** and parallelized data loading via PyTorch `DataLoader`s\n",
    "- ✅ **Latitude-based area weighting** for fair climate metric evaluation\n",
    "- Shape of the inputs are Batch_Size X 5 (num_input_variables) X 48 X 72\n",
    "- Shape of ouputputs are Batch_Size X 2 (num_output_variables) X 48 X 72\n",
    "\n",
    "> ℹ️ **Note:** You likely won’t need to modify this class but feel free to make modifications if you want to inlcude different ensemble mebers to feed more data to your models\n"
   ]
  },
  {
   "cell_type": "code",
   "execution_count": 31,
   "metadata": {
    "editable": true,
    "slideshow": {
     "slide_type": ""
    },
    "tags": []
   },
   "outputs": [],
   "source": [
    "class ClimateDataset(Dataset):\n",
    "    def __init__(self, inputs_dask, outputs_dask, output_is_normalized=True):\n",
    "        self.size = inputs_dask.shape[0]\n",
    "        print(f\"Creating dataset with {self.size} samples (will trigger Dask compute)...\")\n",
    "\n",
    "        inputs_np = inputs_dask.compute()\n",
    "        outputs_np = outputs_dask.compute()\n",
    "        \n",
    "        print(\"Dask compute finished.\")\n",
    "        print(f\"Initial inputs_np shape: {inputs_np.shape}, outputs_np shape: {outputs_np.shape}\")\n",
    "        \n",
    "        self.inputs = torch.from_numpy(inputs_np).float()\n",
    "\n",
    "\n",
    "        self.outputs = torch.from_numpy(outputs_np).float()\n",
    "\n",
    "\n",
    "            \n",
    "        print(f\"\\nDataset creation complete. Final Input shape: {self.inputs.shape}, Final Output shape: {self.outputs.shape}\")\n",
    "\n",
    "\n",
    "    def __len__(self):\n",
    "        return self.size\n",
    "\n",
    "    def __getitem__(self, idx):\n",
    "        return self.inputs[idx], self.outputs[idx]\n",
    "\n",
    "# get_lat_weights should be globally available or passed if needed\n",
    "# def get_lat_weights(latitude_values): ... (defined in config cell)\n",
    "\n",
    "class ClimateDataModule(pl.LightningDataModule):\n",
    "    def __init__(\n",
    "        self,\n",
    "        path,\n",
    "        input_vars,\n",
    "        output_vars,\n",
    "        train_ssps,\n",
    "        test_ssp,\n",
    "        target_member_id,\n",
    "        num_fft_freq_bins, # K\n",
    "        test_months=360,\n",
    "        batch_size=32,\n",
    "        num_workers=0,\n",
    "        seed=42,\n",
    "    ):\n",
    "        super().__init__()\n",
    "        self.path = path\n",
    "        self.input_vars = input_vars\n",
    "        self.output_vars = output_vars\n",
    "        self.train_ssps = train_ssps\n",
    "        self.test_ssp = test_ssp\n",
    "        self.target_member_id = target_member_id\n",
    "        self.num_fft_freq_bins = num_fft_freq_bins\n",
    "        self.test_months = test_months\n",
    "        self.batch_size = batch_size\n",
    "        self.num_workers = num_workers\n",
    "        self.seed = seed\n",
    "        self.normalizer = Normalizer()\n",
    "\n",
    "    def prepare_data(self):\n",
    "        assert os.path.exists(self.path), f\"Data path not found: {self.path}\"\n",
    "\n",
    "    def _load_and_process_ssp(self, ssp, ds, spatial_template):\n",
    "        C_orig = len(self.input_vars)\n",
    "        H, W = spatial_template.shape[-2], spatial_template.shape[-1]\n",
    "        K = self.num_fft_freq_bins\n",
    "\n",
    "        input_dask_orig_list = []\n",
    "        for var_name in self.input_vars:\n",
    "            da_var = ds[var_name].sel(ssp=ssp)\n",
    "            if \"latitude\" in da_var.dims:\n",
    "                da_var = da_var.rename({\"latitude\": \"y\", \"longitude\": \"x\"})\n",
    "            if \"member_id\" in da_var.dims:\n",
    "                da_var = da_var.sel(member_id=self.target_member_id)\n",
    "            if set(da_var.dims) == {\"time\"}:\n",
    "                da_var = da_var.broadcast_like(spatial_template).transpose(\"time\", \"y\", \"x\")\n",
    "            input_dask_orig_list.append(da_var.data)\n",
    "        \n",
    "        x_orig_ssp = da.stack(input_dask_orig_list, axis=1) # [Time_ssp, C_orig, H, W]\n",
    "        \n",
    "        # MODIFIED: NaN handling before FFT using da.where\n",
    "        x_orig_ssp_filled = da.where(da.isnan(x_orig_ssp), 0.0, x_orig_ssp)\n",
    "        \n",
    "        fft_coeffs_ssp = da.fft.rfft(x_orig_ssp_filled, axis=0)\n",
    "        fft_magnitudes_ssp = da.absolute(fft_coeffs_ssp)   # Shape: [Freq, C_orig, H, W]\n",
    "        \n",
    "        actual_K = min(K, fft_magnitudes_ssp.shape[0])\n",
    "        if K > fft_magnitudes_ssp.shape[0]:\n",
    "            print(f\"Warning: Requested K={K} bins, but only {fft_magnitudes_ssp.shape[0]} available for SSP {ssp}. Using K={actual_K}.\")\n",
    "        \n",
    "        selected_fft_magnitudes = fft_magnitudes_ssp[:actual_K, :, :, :]\n",
    "        \n",
    "        C_fft = C_orig * actual_K\n",
    "        if C_fft == 0 and actual_K == 0: \n",
    "             x_combined_ssp = x_orig_ssp_filled \n",
    "        else:\n",
    "            static_fft_features_ssp = selected_fft_magnitudes.transpose((1, 0, 2, 3)).reshape((C_fft, H, W))\n",
    "            Time_ssp = x_orig_ssp_filled.shape[0] \n",
    "            static_fft_broadcasted_ssp = da.broadcast_to(\n",
    "                static_fft_features_ssp.reshape((1, C_fft, H, W)),\n",
    "                (Time_ssp, C_fft, H, W)\n",
    "            )\n",
    "            x_combined_ssp = da.concatenate([x_orig_ssp_filled, static_fft_broadcasted_ssp], axis=1)\n",
    "\n",
    "        output_dask_list = []\n",
    "        for var_name in self.output_vars:\n",
    "            da_out = ds[var_name].sel(ssp=ssp)\n",
    "            if \"latitude\" in da_out.dims:\n",
    "                da_out = da_out.rename({\"latitude\": \"y\", \"longitude\": \"x\"})\n",
    "            if \"member_id\" in da_out.dims:\n",
    "                da_out = da_out.mean(\"member_id\", skipna=True)\n",
    "            output_dask_list.append(da_out.data)\n",
    "        y_ssp = da.stack(output_dask_list, axis=1)\n",
    "\n",
    "        # MODIFIED: NaN handling for outputs using da.where\n",
    "        y_ssp = da.where(da.isnan(y_ssp), 0.0, y_ssp)\n",
    "\n",
    "        return x_combined_ssp, y_ssp\n",
    "\n",
    "    def setup(self, stage=None):\n",
    "        ds = xr.open_zarr(self.path, consolidated=False, chunks={\"time\": \"auto\"})\n",
    "        \n",
    "        template_ssp = self.train_ssps[0]\n",
    "        template_member_id = self.target_member_id if 'member_id' in ds[\"rsdt\"].coords else None\n",
    "        \n",
    "        if template_member_id is not None:\n",
    "            spatial_template_source = ds[\"rsdt\"].sel(ssp=template_ssp, member_id=template_member_id)\n",
    "        else:\n",
    "            spatial_template_source = ds[\"rsdt\"].sel(ssp=template_ssp)\n",
    "            \n",
    "        spatial_template = spatial_template_source.isel(time=0, drop=True)\n",
    "        if \"latitude\" in spatial_template.dims:\n",
    "            spatial_template = spatial_template.rename({\"latitude\": \"y\", \"longitude\": \"x\"})\n",
    "\n",
    "        train_input_list, train_output_list = [], []\n",
    "        val_input_da, val_output_da = None, None\n",
    "\n",
    "        for ssp in self.train_ssps:\n",
    "            x_combined_ssp, y_ssp = self._load_and_process_ssp(ssp, ds, spatial_template)\n",
    "            if ssp == \"ssp370\":\n",
    "                val_input_da = x_combined_ssp[-self.test_months:]\n",
    "                val_output_da = y_ssp[-self.test_months:]\n",
    "                train_input_list.append(x_combined_ssp[:-self.test_months])\n",
    "                train_output_list.append(y_ssp[:-self.test_months])\n",
    "            else:\n",
    "                train_input_list.append(x_combined_ssp)\n",
    "                train_output_list.append(y_ssp)\n",
    "\n",
    "        train_input_da = da.concatenate(train_input_list, axis=0)\n",
    "        train_output_da = da.concatenate(train_output_list, axis=0)\n",
    "        \n",
    "        input_mean = da.mean(train_input_da, axis=(0, 2, 3), keepdims=True).compute()\n",
    "        input_std = da.std(train_input_da, axis=(0, 2, 3), keepdims=True).compute()\n",
    "        self.normalizer.set_input_statistics(mean=input_mean, std=input_std)\n",
    "        \n",
    "        output_mean = da.mean(train_output_da, axis=(0, 2, 3), keepdims=True).compute()\n",
    "        output_std = da.std(train_output_da, axis=(0, 2, 3), keepdims=True).compute()\n",
    "        self.normalizer.set_output_statistics(mean=output_mean, std=output_std)\n",
    "\n",
    "        train_input_norm_da = self.normalizer.normalize(train_input_da, \"input\")\n",
    "        train_output_norm_da = self.normalizer.normalize(train_output_da, \"output\")\n",
    "        val_input_norm_da = self.normalizer.normalize(val_input_da, \"input\")\n",
    "        val_output_norm_da = self.normalizer.normalize(val_output_da, \"output\")\n",
    "        \n",
    "        x_test_combined_da, y_test_da = self._load_and_process_ssp(self.test_ssp, ds, spatial_template)\n",
    "        x_test_combined_da = x_test_combined_da[-self.test_months:]\n",
    "        y_test_da = y_test_da[-self.test_months:]\n",
    "        test_input_norm_da = self.normalizer.normalize(x_test_combined_da, \"input\")\n",
    "\n",
    "        self.train_dataset = ClimateDataset(train_input_norm_da, train_output_norm_da)\n",
    "        self.val_dataset = ClimateDataset(val_input_norm_da, val_output_norm_da)\n",
    "        self.test_dataset = ClimateDataset(test_input_norm_da, y_test_da, output_is_normalized=False)\n",
    "\n",
    "        self.lat = spatial_template.y.values\n",
    "        self.lon = spatial_template.x.values\n",
    "        self.area_weights = xr.DataArray(get_lat_weights(self.lat), dims=[\"y\"], coords={\"y\": self.lat})\n",
    "\n",
    "    def train_dataloader(self):\n",
    "        return DataLoader(self.train_dataset, batch_size=self.batch_size, shuffle=True,\n",
    "                          num_workers=self.num_workers, pin_memory=True, \n",
    "                          persistent_workers=(self.num_workers > 0))\n",
    "\n",
    "    def val_dataloader(self):\n",
    "        return DataLoader(self.val_dataset, batch_size=self.batch_size, shuffle=False,\n",
    "                          num_workers=self.num_workers, pin_memory=True,\n",
    "                          persistent_workers=(self.num_workers > 0))\n",
    "\n",
    "    def test_dataloader(self):\n",
    "        return DataLoader(self.test_dataset, batch_size=self.batch_size, shuffle=False,\n",
    "                          num_workers=self.num_workers, pin_memory=True,\n",
    "                          persistent_workers=(self.num_workers > 0))\n",
    "\n",
    "    def get_lat_weights(self):\n",
    "        return self.area_weights\n",
    "\n",
    "    def get_coords(self):\n",
    "        return self.lat, self.lon"
   ]
  },
  {
   "cell_type": "code",
   "execution_count": null,
   "metadata": {},
   "outputs": [],
   "source": []
  },
  {
   "cell_type": "code",
   "execution_count": 32,
   "metadata": {
    "editable": true,
    "slideshow": {
     "slide_type": ""
    },
    "tags": []
   },
   "outputs": [
    {
     "name": "stdout",
     "output_type": "stream",
     "text": [
      "Creating dataset with 2703 samples (will trigger Dask compute)...\n",
      "Dask compute finished.\n",
      "Initial inputs_np shape: (2703, 55, 48, 72), outputs_np shape: (2703, 1, 48, 72)\n",
      "\n",
      "Dataset creation complete. Final Input shape: torch.Size([2703, 55, 48, 72]), Final Output shape: torch.Size([2703, 1, 48, 72])\n",
      "Creating dataset with 360 samples (will trigger Dask compute)...\n",
      "Dask compute finished.\n",
      "Initial inputs_np shape: (360, 55, 48, 72), outputs_np shape: (360, 1, 48, 72)\n",
      "\n",
      "Dataset creation complete. Final Input shape: torch.Size([360, 55, 48, 72]), Final Output shape: torch.Size([360, 1, 48, 72])\n",
      "Creating dataset with 360 samples (will trigger Dask compute)...\n",
      "Dask compute finished.\n",
      "Initial inputs_np shape: (360, 55, 48, 72), outputs_np shape: (360, 1, 48, 72)\n",
      "\n",
      "Dataset creation complete. Final Input shape: torch.Size([360, 55, 48, 72]), Final Output shape: torch.Size([360, 1, 48, 72])\n",
      "Train dataset shape: 2703, torch.Size([2703, 55, 48, 72])\n",
      "Validation dataset shape: torch.Size([360, 55, 48, 72]), torch.Size([360, 1, 48, 72])\n",
      "Test dataset shape: torch.Size([360, 55, 48, 72]), torch.Size([360, 1, 48, 72])\n"
     ]
    }
   ],
   "source": [
    "cdm = ClimateDataModule(\n",
    "    path=config[\"data\"][\"path\"],\n",
    "    input_vars=config[\"data\"][\"input_vars\"],\n",
    "    output_vars=config[\"data\"][\"output_vars\"],\n",
    "    train_ssps=config[\"data\"][\"train_ssps\"],\n",
    "    test_ssp=config[\"data\"][\"test_ssp\"],\n",
    "    target_member_id=config[\"data\"][\"target_member_id\"],\n",
    "    num_fft_freq_bins=config[\"data\"][\"num_fft_freq_bins\"],\n",
    "    test_months=config[\"data\"][\"test_months\"],\n",
    "    batch_size=config[\"data\"][\"batch_size\"],\n",
    "    num_workers=config[\"data\"][\"num_workers\"],\n",
    "    seed=config[\"seed\"],\n",
    ")\n",
    "cdm.prepare_data()\n",
    "cdm.setup()\n",
    "# print the shape of train, validation, and test datasets\n",
    "print(f\"Train dataset shape: {len(cdm.train_dataset)}, {cdm.train_dataset.inputs.shape}\")\n",
    "print(f\"Validation dataset shape: {cdm.val_dataset.inputs.shape}, {cdm.val_dataset.outputs.shape}\")\n",
    "print(f\"Test dataset shape: {cdm.test_dataset.inputs.shape}, {cdm.test_dataset.outputs.shape}\")\n",
    "\n"
   ]
  },
  {
   "cell_type": "code",
   "execution_count": 33,
   "metadata": {},
   "outputs": [
    {
     "data": {
      "image/png": "[encoded data removed]",
      "text/plain": [
       "<Figure size 1200x600 with 1 Axes>"
      ]
     },
     "metadata": {},
     "output_type": "display_data"
    },
    {
     "data": {
      "image/png": "[encoded data removed]",
      "text/plain": [
       "<Figure size 1200x600 with 1 Axes>"
      ]
     },
     "metadata": {},
     "output_type": "display_data"
    },
    {
     "data": {
      "image/png": "[encoded data removed]",
      "text/plain": [
       "<Figure size 1200x600 with 1 Axes>"
      ]
     },
     "metadata": {},
     "output_type": "display_data"
    }
   ],
   "source": [
    "import matplotlib.pyplot as plt\n",
    "import torch\n",
    "\n",
    "def plot_output_over_time(outputs, output_var_names, title_prefix=\"Train\"):\n",
    "    \"\"\"\n",
    "    Plot the spatial average of each output variable over time.\n",
    "    \n",
    "    Args:\n",
    "        outputs (torch.Tensor): shape [T, C, H, W]\n",
    "        output_var_names (list): Names of output variables, length C\n",
    "        title_prefix (str): \"Train\", \"Val\", or \"Test\"\n",
    "    \"\"\"\n",
    "    if outputs.dim() != 4:\n",
    "        raise ValueError(\"Expected outputs with shape [T, C, H, W]\")\n",
    "    \n",
    "    T, C, H, W = outputs.shape\n",
    "    outputs_np = outputs.numpy()\n",
    "\n",
    "    # Compute spatial average (mean over H and W) for each time step and variable\n",
    "    spatial_means = outputs_np.mean(axis=(2, 3))  # shape: [T, C]\n",
    "\n",
    "    # Plot each output variable's mean over time\n",
    "    plt.figure(figsize=(12, 6))\n",
    "    for i in range(C):\n",
    "        plt.plot(spatial_means[:, i], label=output_var_names[i])\n",
    "    \n",
    "    plt.xlabel(\"Time step (months)\")\n",
    "    plt.ylabel(\"Spatial Mean Value\")\n",
    "    plt.title(f\"{title_prefix} Outputs Over Time\")\n",
    "    plt.legend()\n",
    "    plt.grid(True)\n",
    "    plt.tight_layout()\n",
    "    plt.show()\n",
    "\n",
    "# Example usage:\n",
    "plot_output_over_time(cdm.train_dataset.outputs, cdm.output_vars, title_prefix=\"Train\")\n",
    "plot_output_over_time(cdm.val_dataset.outputs, cdm.output_vars, title_prefix=\"Validation\")\n",
    "plot_output_over_time(cdm.test_dataset.outputs, cdm.output_vars, title_prefix=\"Test\")"
   ]
  },
  {
   "cell_type": "code",
   "execution_count": 34,
   "metadata": {},
   "outputs": [
    {
     "data": {
      "image/png": "[encoded data removed]",
      "text/plain": [
       "<Figure size 1200x500 with 4 Axes>"
      ]
     },
     "metadata": {},
     "output_type": "display_data"
    }
   ],
   "source": [
    "import matplotlib.pyplot as plt\n",
    "import torch\n",
    "\n",
    "def plot_spatial_stats(outputs, output_var_names, title_prefix=\"Train\"):\n",
    "    \"\"\"\n",
    "    Plot spatial mean and standard deviation maps for each output variable.\n",
    "\n",
    "    Args:\n",
    "        outputs (torch.Tensor): shape [T, C, H, W]\n",
    "        output_var_names (list): Names of output variables\n",
    "        title_prefix (str): e.g., \"Train\", \"Validation\", \"Test\"\n",
    "    \"\"\"\n",
    "    if outputs.dim() != 4:\n",
    "        raise ValueError(\"Expected outputs with shape [T, C, H, W]\")\n",
    "\n",
    "    T, C, H, W = outputs.shape\n",
    "    outputs_np = outputs.numpy()\n",
    "\n",
    "    spatial_mean = outputs_np.mean(axis=0)  # shape: [C, H, W]\n",
    "    spatial_std = outputs_np.std(axis=0)    # shape: [C, H, W]\n",
    "\n",
    "    for i in range(C):\n",
    "        fig, axs = plt.subplots(1, 2, figsize=(12, 5))\n",
    "        \n",
    "        im0 = axs[0].imshow(spatial_mean[i], cmap='viridis')\n",
    "        axs[0].set_title(f\"{title_prefix} Mean: {output_var_names[i]}\")\n",
    "        plt.colorbar(im0, ax=axs[0])\n",
    "\n",
    "        im1 = axs[1].imshow(spatial_std[i], cmap='magma')\n",
    "        axs[1].set_title(f\"{title_prefix} Std Dev: {output_var_names[i]}\")\n",
    "        plt.colorbar(im1, ax=axs[1])\n",
    "\n",
    "        plt.tight_layout()\n",
    "        plt.show()\n",
    "\n",
    "# Example usage:\n",
    "plot_spatial_stats(cdm.train_dataset.outputs, cdm.output_vars, title_prefix=\"Train\")\n"
   ]
  },
  {
   "cell_type": "markdown",
   "metadata": {},
   "source": [
    "# Lets visualize the distribution of output variables"
   ]
  },
  {
   "cell_type": "code",
   "execution_count": 35,
   "metadata": {},
   "outputs": [
    {
     "name": "stdout",
     "output_type": "stream",
     "text": [
      "Input variables: ['CO2', 'SO2', 'CH4', 'BC', 'rsdt']\n",
      "Output variables: ['tas']\n"
     ]
    }
   ],
   "source": [
    "out_vars = cdm.output_vars\n",
    "in_vars = cdm.input_vars\n",
    "print(f\"Input variables: {in_vars}\")\n",
    "print(f\"Output variables: {out_vars}\")"
   ]
  },
  {
   "cell_type": "code",
   "execution_count": 36,
   "metadata": {},
   "outputs": [
    {
     "name": "stdout",
     "output_type": "stream",
     "text": [
      "Train output shape: torch.Size([2703, 1, 48, 72])\n"
     ]
    }
   ],
   "source": [
    "train_output = cdm.train_dataset.outputs\n",
    "print(f\"Train output shape: {train_output.shape}\")"
   ]
  },
  {
   "cell_type": "code",
   "execution_count": 37,
   "metadata": {},
   "outputs": [
    {
     "name": "stdout",
     "output_type": "stream",
     "text": [
      "Train input shape: torch.Size([2703, 55, 48, 72])\n"
     ]
    }
   ],
   "source": [
    "train_input = cdm.train_dataset.inputs\n",
    "print(f\"Train input shape: {train_input.shape}\")"
   ]
  },
  {
   "cell_type": "code",
   "execution_count": 38,
   "metadata": {},
   "outputs": [
    {
     "name": "stdout",
     "output_type": "stream",
     "text": [
      "['CO2', 'SO2', 'CH4', 'BC', 'rsdt']\n"
     ]
    },
    {
     "data": {
      "text/plain": [
       "torch.Size([2703, 55, 48, 72])"
      ]
     },
     "execution_count": 38,
     "metadata": {},
     "output_type": "execute_result"
    }
   ],
   "source": [
    "print(in_vars)\n",
    "train_input = cdm.train_dataset.inputs\n",
    "train_input.shape"
   ]
  },
  {
   "cell_type": "code",
   "execution_count": 39,
   "metadata": {},
   "outputs": [
    {
     "name": "stdout",
     "output_type": "stream",
     "text": [
      "['tas']\n"
     ]
    }
   ],
   "source": [
    "print(out_vars)"
   ]
  },
  {
   "cell_type": "markdown",
   "metadata": {
    "editable": true,
    "slideshow": {
     "slide_type": ""
    },
    "tags": []
   },
   "source": [
    "## Here i used ai to write a loop to generate heatmaps"
   ]
  },
  {
   "cell_type": "markdown",
   "metadata": {},
   "source": [
    "### ⚡ ClimateEmulationModule: Lightning Wrapper for Climate Model Emulation\n",
    "\n",
    "This is the core model wrapper built with **PyTorch Lightning**, which organizes the training, validation, and testing logic for the climate emulation task. Lightning abstracts away much of the boilerplate code in PyTorch-based deep learning workflows, making it easier to scale models.\n",
    "\n",
    "#### ✅ Key Features\n",
    "\n",
    "- **`training_step` / `validation_step` / `test_step`**: Standard Lightning hooks for computing loss and predictions at each stage. The loss used is **Mean Squared Error (MSE)**.\n",
    "\n",
    "- **Normalization-aware outputs**:\n",
    "  - During validation and testing, predictions and targets are denormalized before evaluation using stored mean/std statistics.\n",
    "  - This ensures evaluation is done in real-world units (Kelvin and mm/day).\n",
    "\n",
    "- **Metric Evaluation** via `_evaluate()`:\n",
    "  For each variable (`tas`, `pr`), it calculates:\n",
    "  - **Monthly Area-Weighted RMSE**\n",
    "  - **Time-Mean RMSE** (RMSE on 10-year average's)\n",
    "  - **Time-Stddev MAE** (MAE on 10-year standard deviation; a measure of temporal variability)\n",
    "    \n",
    "  These metrics reflect the competition's evaluation criteria and are logged and printed.\n",
    "\n",
    "- **Kaggle Submission Writer**:\n",
    "  After testing, predictions are saved to a `.csv` file in the required Kaggle format via `_save_submission()`.\n",
    "\n",
    "- **Saving Predictions for Visualization**:\n",
    "  - Validation predictions are saved tao `val_preds.npy` and `val_trues.npy`\n",
    "  - These can be loaded later for visual inspection of the model's performance.\n",
    "\n",
    " 🔧 **Feel free to modify any part of this module** (loss functions, evaluation, training logic) to better suit your model or training pipeline / Use pure PyTorch etc.\n",
    "\n",
    "⚠️ The **final submission `.csv` file must strictly follow the format and naming convention used in `_save_submission()`**, as these `ID`s are used to match predictions to the hidden test set during evaluation.\n",
    "\n"
   ]
  },
  {
   "cell_type": "code",
   "execution_count": 1,
   "metadata": {},
   "outputs": [],
   "source": [
    "import os\n",
    "from datetime import datetime\n",
    "import numpy as np\n",
    "import pandas as pd\n",
    "import xarray as xr\n",
    "import dask.array as da\n",
    "import torch\n",
    "import torch.nn as nn\n",
    "import torch.optim as optim\n",
    "import matplotlib.pyplot as plt\n",
    "from torch.utils.data import Dataset, DataLoader\n",
    "import lightning.pytorch as pl\n",
    "import pdb\n",
    "import torch.nn.functional as F\n",
    "from lightning.pytorch.callbacks import EarlyStopping\n",
    "from torch.optim.lr_scheduler import ReduceLROnPlateau # Make sure this is imported\n",
    "\n",
    "class ClimateEmulationModule(pl.LightningModule):\n",
    "    def __init__(self, model, learning_rate=1e-4):\n",
    "        super().__init__()\n",
    "        self.model = model\n",
    "        self.save_hyperparameters(ignore=['model'])\n",
    "        self.criterion = nn.MSELoss()\n",
    "        self.normalizer = None\n",
    "        self.val_preds, self.val_targets = [], []\n",
    "        self.test_preds, self.test_targets = [], []\n",
    "        self.train_losses = [] # Initialize list to store training losses\n",
    "        self.val_losses = []   # Initialize list to store validation losses\n",
    "\n",
    "    def forward(self, x):\n",
    "        return self.model(x)\n",
    "\n",
    "    def on_fit_start(self):\n",
    "        self.normalizer = self.trainer.datamodule.normalizer\n",
    "\n",
    "    def training_step(self, batch, batch_idx):\n",
    "        x, y = batch\n",
    "        y_hat = self(x)\n",
    "        loss = self.criterion(y_hat, y)\n",
    "        self.log(\"train/loss\", loss)\n",
    "        self.train_losses.append(loss.item()) # Append training loss for plotting\n",
    "        return loss\n",
    "\n",
    "    def validation_step(self, batch, batch_idx):\n",
    "        x, y = batch\n",
    "        y_hat = self(x)\n",
    "        loss = self.criterion(y_hat, y)\n",
    "        self.log(\"val/loss\", loss)\n",
    "        self.val_losses.append(loss.item()) # Append validation loss for plotting\n",
    "\n",
    "        y_hat_np = self.normalizer.inverse_transform_output(y_hat.detach().cpu().numpy())\n",
    "        y_np = self.normalizer.inverse_transform_output(y.detach().cpu().numpy())\n",
    "        self.val_preds.append(y_hat_np)\n",
    "        self.val_targets.append(y_np)\n",
    "        return loss\n",
    "\n",
    "    def on_validation_epoch_end(self):\n",
    "        preds = np.concatenate(self.val_preds, axis=0)\n",
    "        trues = np.concatenate(self.val_targets, axis=0)\n",
    "        self._evaluate(preds, trues, phase=\"val\")\n",
    "        np.save(\"val_preds.npy\", preds)\n",
    "        np.save(\"val_trues.npy\", trues)\n",
    "        self.val_preds.clear()\n",
    "        self.val_targets.clear()\n",
    "\n",
    "    def test_step(self, batch, batch_idx):\n",
    "        x, y = batch\n",
    "        y_hat = self(x)\n",
    "        y_hat_np = self.normalizer.inverse_transform_output(y_hat.detach().cpu().numpy())\n",
    "        y_np = y.detach().cpu().numpy()\n",
    "        self.test_preds.append(y_hat_np)\n",
    "        self.test_targets.append(y_np)\n",
    "\n",
    "    def on_test_epoch_end(self):\n",
    "        preds = np.concatenate(self.test_preds, axis=0)\n",
    "        trues = np.concatenate(self.test_targets, axis=0)\n",
    "        self._evaluate(preds, trues, phase=\"test\")\n",
    "        self._save_submission(preds)\n",
    "        self.test_preds.clear()\n",
    "        self.test_targets.clear()\n",
    "\n",
    "    def configure_optimizers(self):\n",
    "        optimizer = optim.AdamW(self.parameters(), lr=self.hparams.learning_rate)\n",
    "        scheduler = {\n",
    "            'scheduler': ReduceLROnPlateau(\n",
    "                optimizer,\n",
    "                mode='min',\n",
    "                factor=0.5,\n",
    "                patience=3,\n",
    "                verbose=True,\n",
    "                min_lr=1e-7,\n",
    "                monitor='val/pr/rmse'\n",
    "            ),\n",
    "            'interval': 'epoch',\n",
    "            'frequency': 1,\n",
    "            'monitor': 'val/pr/rmse'\n",
    "        }\n",
    "        return [optimizer], [scheduler]\n",
    "\n",
    "    def _evaluate(self, preds, trues, phase=\"val\"):\n",
    "        datamodule = self.trainer.datamodule\n",
    "        area_weights = datamodule.get_lat_weights()\n",
    "        lat, lon = datamodule.get_coords()\n",
    "        time = np.arange(preds.shape[0])\n",
    "        output_vars = datamodule.output_vars\n",
    "\n",
    "        for i, var in enumerate(output_vars):\n",
    "            p = preds[:, i]\n",
    "            t = trues[:, i]\n",
    "            p_xr = xr.DataArray(p, dims=[\"time\", \"y\", \"x\"], coords={\"time\": time, \"y\": lat, \"x\": lon})\n",
    "            t_xr = xr.DataArray(t, dims=[\"time\", \"y\", \"x\"], coords={\"time\": time, \"y\": lat, \"x\": lon})\n",
    "\n",
    "            # RMSE\n",
    "            rmse = np.sqrt(((p_xr - t_xr) ** 2).weighted(area_weights).mean((\"time\", \"y\", \"x\")).item())\n",
    "            # RMSE of time-mean\n",
    "            mean_rmse = np.sqrt(((p_xr.mean(\"time\") - t_xr.mean(\"time\")) ** 2).weighted(area_weights).mean((\"y\", \"x\")).item())\n",
    "            # MAE of time-stddev\n",
    "            std_mae = np.abs(p_xr.std(\"time\") - t_xr.std(\"time\")).weighted(area_weights).mean((\"y\", \"x\")).item()\n",
    "\n",
    "            print(f\"[{phase.upper()}] {var}: RMSE={rmse:.4f}, Time-Mean RMSE={mean_rmse:.4f}, Time-Stddev MAE={std_mae:.4f}\")\n",
    "            self.log_dict({\n",
    "                f\"{phase}/{var}/rmse\": rmse,\n",
    "                f\"{phase}/{var}/time_mean_rmse\": mean_rmse,\n",
    "                f\"{phase}/{var}/time_std_mae\": std_mae,\n",
    "            })\n",
    "\n",
    "    def _save_submission(self, predictions):\n",
    "        datamodule = self.trainer.datamodule\n",
    "        lat, lon = datamodule.get_coords()\n",
    "        output_vars = datamodule.output_vars\n",
    "        time = np.arange(predictions.shape[0])\n",
    "\n",
    "        rows = []\n",
    "        for t_idx, t in enumerate(time):\n",
    "            for var_idx, var in enumerate(output_vars):\n",
    "                for y_idx, y in enumerate(lat):\n",
    "                    for x_idx, x in enumerate(lon):\n",
    "                        row_id = f\"t{t_idx:03d}_{var}_{y:.2f}_{x:.2f}\"\n",
    "                        pred = predictions[t_idx, var_idx, y_idx, x_idx]\n",
    "                        rows.append({\"ID\": row_id, \"Prediction\": pred})\n",
    "\n",
    "        df = pd.DataFrame(rows)\n",
    "        os.makedirs(\"submissions\", exist_ok=True)\n",
    "        filepath = f\"submissions/kaggle_submission_{datetime.now().strftime('%Y%m%d_%H%M%S')}.csv\"\n",
    "        df.to_csv(filepath, index=False)\n",
    "        print(f\"✅ Submission saved to: {filepath}\")"
   ]
  },
  {
   "cell_type": "markdown",
   "metadata": {},
   "source": [
    "### ⚡ Training & Evaluation with PyTorch Lightning\n",
    "\n",
    "This block sets up and runs the training and testing pipeline using **PyTorch Lightning’s `Trainer`**, which abstracts away much of the boilerplate in deep learning workflows.\n",
    "\n",
    "- **Modular Setup**:\n",
    "  - `datamodule`: Handles loading, normalization, and batching of climate data.\n",
    "  - `model`: A convolutional neural network that maps climate forcings to predicted outputs.\n",
    "  - `lightning_module`: Wraps the model with training/validation/test logic and metric evaluation.\n",
    "\n",
    "- **Trainer Flexibility**:\n",
    "  The `Trainer` accepts a wide range of configuration options from `config[\"trainer\"]`, including:\n",
    "  - Number of epochs\n",
    "  - Precision (e.g., 16-bit or 32-bit)\n",
    "  - Device configuration (CPU, GPU, or TPU)\n",
    "  - Determinism, logging, callbacks, and more"
   ]
  },
  {
   "cell_type": "code",
   "execution_count": 41,
   "metadata": {},
   "outputs": [
    {
     "name": "stderr",
     "output_type": "stream",
     "text": [
      "/home/dpachchigar/.local/lib/python3.11/site-packages/lightning/fabric/connector.py:571: `precision=16` is supported for historical reasons but its usage is discouraged. Please set your precision to 16-mixed instead!\n",
      "Using 16bit Automatic Mixed Precision (AMP)\n",
      "Using default `ModelCheckpoint`. Consider installing `litmodels` package to enable `LitModelCheckpoint` for automatic upload to the Lightning model registry.\n",
      "GPU available: True (cuda), used: True\n",
      "TPU available: False, using: 0 TPU cores\n",
      "HPU available: False, using: 0 HPUs\n"
     ]
    }
   ],
   "source": [
    "model = ConvLSTMModel(\n",
    "    in_channels_effective=config[\"model\"][\"in_channels_effective\"],\n",
    "    cnn_encoder_channels=config[\"model\"][\"cnn_encoder_channels\"],\n",
    "    cnn_encoder_kernels=config[\"model\"][\"cnn_encoder_kernels\"],\n",
    "    conv_lstm_input_dim=config[\"model\"][\"conv_lstm_input_dim\"],\n",
    "    conv_lstm_hidden_dims=config[\"model\"][\"conv_lstm_hidden_dims\"],\n",
    "    conv_lstm_kernel_sizes=config[\"model\"][\"conv_lstm_kernel_sizes\"],\n",
    "    cnn_decoder_channels=config[\"model\"][\"cnn_decoder_channels\"],\n",
    "    cnn_decoder_kernels=config[\"model\"][\"cnn_decoder_kernels\"],\n",
    "    final_decoder_kernel=config[\"model\"][\"final_decoder_kernel\"],\n",
    "    img_h=config[\"model\"][\"img_size_h\"],\n",
    "    img_w=config[\"model\"][\"img_size_w\"],\n",
    "    out_channels=config[\"model\"][\"out_channels\"]\n",
    ")\n",
    "\n",
    "# Instantiate the ClimateEmulationModule (LightningModule)\n",
    "# This wraps your PyTorch model (ConvLSTMModel) and adds training/validation/test logic\n",
    "climate_model = ClimateEmulationModule( # Renamed to avoid conflict if 'climate_model' is used elsewhere\n",
    "    model=model,\n",
    "    learning_rate=config[\"training\"][\"lr\"],\n",
    ")\n",
    "\n",
    "# Instantiate the PyTorch Lightning Trainer\n",
    "# Parameters are taken from the config['trainer'] dictionary\n",
    "trainer = pl.Trainer(\n",
    "    max_epochs=config[\"trainer\"][\"max_epochs\"],\n",
    "    accelerator=config[\"trainer\"][\"accelerator\"],\n",
    "    devices=config[\"trainer\"][\"devices\"],\n",
    "    precision=config[\"trainer\"][\"precision\"],\n",
    "    deterministic=config[\"trainer\"][\"deterministic\"],\n",
    "    num_sanity_val_steps=config[\"trainer\"][\"num_sanity_val_steps\"],\n",
    "    callbacks=config[\"trainer\"][\"callbacks\"], # This should include early_stopping\n",
    "    # logger=logger, # Uncomment and set up a logger (e.g., TensorBoardLogger or WandbLogger) if desired\n",
    ")\n",
    "\n"
   ]
  },
  {
   "cell_type": "code",
   "execution_count": 42,
   "metadata": {
    "editable": true,
    "slideshow": {
     "slide_type": ""
    },
    "tags": []
   },
   "outputs": [
    {
     "name": "stdout",
     "output_type": "stream",
     "text": [
      "Starting training...\n",
      "Creating dataset with 2703 samples (will trigger Dask compute)...\n",
      "Dask compute finished.\n",
      "Initial inputs_np shape: (2703, 55, 48, 72), outputs_np shape: (2703, 1, 48, 72)\n",
      "\n",
      "Dataset creation complete. Final Input shape: torch.Size([2703, 55, 48, 72]), Final Output shape: torch.Size([2703, 1, 48, 72])\n",
      "Creating dataset with 360 samples (will trigger Dask compute)...\n",
      "Dask compute finished.\n",
      "Initial inputs_np shape: (360, 55, 48, 72), outputs_np shape: (360, 1, 48, 72)\n",
      "\n",
      "Dataset creation complete. Final Input shape: torch.Size([360, 55, 48, 72]), Final Output shape: torch.Size([360, 1, 48, 72])\n",
      "Creating dataset with 360 samples (will trigger Dask compute)...\n"
     ]
    },
    {
     "name": "stderr",
     "output_type": "stream",
     "text": [
      "LOCAL_RANK: 0 - CUDA_VISIBLE_DEVICES: [0]\n",
      "\n",
      "  | Name      | Type          | Params | Mode \n",
      "----------------------------------------------------\n",
      "0 | model     | ConvLSTMModel | 11.8 M | train\n",
      "1 | criterion | MSELoss       | 0      | train\n",
      "----------------------------------------------------\n",
      "11.8 M    Trainable params\n",
      "0         Non-trainable params\n",
      "11.8 M    Total params\n",
      "47.328    Total estimated model params size (MB)\n",
      "22        Modules in train mode\n",
      "0         Modules in eval mode\n"
     ]
    },
    {
     "name": "stdout",
     "output_type": "stream",
     "text": [
      "Dask compute finished.\n",
      "Initial inputs_np shape: (360, 55, 48, 72), outputs_np shape: (360, 1, 48, 72)\n",
      "\n",
      "Dataset creation complete. Final Input shape: torch.Size([360, 55, 48, 72]), Final Output shape: torch.Size([360, 1, 48, 72])\n"
     ]
    },
    {
     "name": "stderr",
     "output_type": "stream",
     "text": [
      "/home/dpachchigar/.local/lib/python3.11/site-packages/lightning/pytorch/trainer/connectors/data_connector.py:425: The 'train_dataloader' does not have many workers which may be a bottleneck. Consider increasing the value of the `num_workers` argument` to `num_workers=39` in the `DataLoader` to improve performance.\n",
      "/home/dpachchigar/.local/lib/python3.11/site-packages/lightning/pytorch/trainer/connectors/data_connector.py:425: The 'val_dataloader' does not have many workers which may be a bottleneck. Consider increasing the value of the `num_workers` argument` to `num_workers=39` in the `DataLoader` to improve performance.\n"
     ]
    },
    {
     "data": {
      "application/vnd.jupyter.widget-view+json": {
       "model_id": "ac200121013f4c0e878d867206522550",
       "version_major": 2,
       "version_minor": 0
      },
      "text/plain": [
       "Training: |          | 0/? [00:00<?, ?it/s]"
      ]
     },
     "metadata": {},
     "output_type": "display_data"
    },
    {
     "data": {
      "application/vnd.jupyter.widget-view+json": {
       "model_id": "",
       "version_major": 2,
       "version_minor": 0
      },
      "text/plain": [
       "Validation: |          | 0/? [00:00<?, ?it/s]"
      ]
     },
     "metadata": {},
     "output_type": "display_data"
    },
    {
     "name": "stderr",
     "output_type": "stream",
     "text": [
      "Metric val/tas/rmse improved. New best score: 5.523\n"
     ]
    },
    {
     "name": "stdout",
     "output_type": "stream",
     "text": [
      "[VAL] tas: RMSE=5.5233, Time-Mean RMSE=4.1247, Time-Stddev MAE=1.8903\n"
     ]
    },
    {
     "data": {
      "application/vnd.jupyter.widget-view+json": {
       "model_id": "",
       "version_major": 2,
       "version_minor": 0
      },
      "text/plain": [
       "Validation: |          | 0/? [00:00<?, ?it/s]"
      ]
     },
     "metadata": {},
     "output_type": "display_data"
    },
    {
     "name": "stderr",
     "output_type": "stream",
     "text": [
      "Metric val/tas/rmse improved by 0.767 >= min_delta = 0.001. New best score: 4.757\n"
     ]
    },
    {
     "name": "stdout",
     "output_type": "stream",
     "text": [
      "[VAL] tas: RMSE=4.7568, Time-Mean RMSE=3.2391, Time-Stddev MAE=1.5796\n"
     ]
    },
    {
     "data": {
      "application/vnd.jupyter.widget-view+json": {
       "model_id": "",
       "version_major": 2,
       "version_minor": 0
      },
      "text/plain": [
       "Validation: |          | 0/? [00:00<?, ?it/s]"
      ]
     },
     "metadata": {},
     "output_type": "display_data"
    },
    {
     "name": "stderr",
     "output_type": "stream",
     "text": [
      "Metric val/tas/rmse improved by 0.165 >= min_delta = 0.001. New best score: 4.592\n"
     ]
    },
    {
     "name": "stdout",
     "output_type": "stream",
     "text": [
      "[VAL] tas: RMSE=4.5919, Time-Mean RMSE=3.1068, Time-Stddev MAE=1.4092\n"
     ]
    },
    {
     "data": {
      "application/vnd.jupyter.widget-view+json": {
       "model_id": "",
       "version_major": 2,
       "version_minor": 0
      },
      "text/plain": [
       "Validation: |          | 0/? [00:00<?, ?it/s]"
      ]
     },
     "metadata": {},
     "output_type": "display_data"
    },
    {
     "name": "stderr",
     "output_type": "stream",
     "text": [
      "Metric val/tas/rmse improved by 0.068 >= min_delta = 0.001. New best score: 4.524\n"
     ]
    },
    {
     "name": "stdout",
     "output_type": "stream",
     "text": [
      "[VAL] tas: RMSE=4.5239, Time-Mean RMSE=3.0558, Time-Stddev MAE=1.2505\n"
     ]
    },
    {
     "data": {
      "application/vnd.jupyter.widget-view+json": {
       "model_id": "",
       "version_major": 2,
       "version_minor": 0
      },
      "text/plain": [
       "Validation: |          | 0/? [00:00<?, ?it/s]"
      ]
     },
     "metadata": {},
     "output_type": "display_data"
    },
    {
     "name": "stderr",
     "output_type": "stream",
     "text": [
      "Metric val/tas/rmse improved by 0.120 >= min_delta = 0.001. New best score: 4.404\n"
     ]
    },
    {
     "name": "stdout",
     "output_type": "stream",
     "text": [
      "[VAL] tas: RMSE=4.4037, Time-Mean RMSE=2.9149, Time-Stddev MAE=1.2483\n"
     ]
    },
    {
     "data": {
      "application/vnd.jupyter.widget-view+json": {
       "model_id": "",
       "version_major": 2,
       "version_minor": 0
      },
      "text/plain": [
       "Validation: |          | 0/? [00:00<?, ?it/s]"
      ]
     },
     "metadata": {},
     "output_type": "display_data"
    },
    {
     "name": "stdout",
     "output_type": "stream",
     "text": [
      "[VAL] tas: RMSE=4.4887, Time-Mean RMSE=3.0706, Time-Stddev MAE=1.1810\n"
     ]
    },
    {
     "data": {
      "application/vnd.jupyter.widget-view+json": {
       "model_id": "",
       "version_major": 2,
       "version_minor": 0
      },
      "text/plain": [
       "Validation: |          | 0/? [00:00<?, ?it/s]"
      ]
     },
     "metadata": {},
     "output_type": "display_data"
    },
    {
     "name": "stderr",
     "output_type": "stream",
     "text": [
      "Metric val/tas/rmse improved by 0.062 >= min_delta = 0.001. New best score: 4.342\n"
     ]
    },
    {
     "name": "stdout",
     "output_type": "stream",
     "text": [
      "[VAL] tas: RMSE=4.3420, Time-Mean RMSE=2.8883, Time-Stddev MAE=1.3577\n"
     ]
    },
    {
     "data": {
      "application/vnd.jupyter.widget-view+json": {
       "model_id": "",
       "version_major": 2,
       "version_minor": 0
      },
      "text/plain": [
       "Validation: |          | 0/? [00:00<?, ?it/s]"
      ]
     },
     "metadata": {},
     "output_type": "display_data"
    },
    {
     "name": "stderr",
     "output_type": "stream",
     "text": [
      "Metric val/tas/rmse improved by 0.033 >= min_delta = 0.001. New best score: 4.309\n"
     ]
    },
    {
     "name": "stdout",
     "output_type": "stream",
     "text": [
      "[VAL] tas: RMSE=4.3090, Time-Mean RMSE=2.8798, Time-Stddev MAE=1.0838\n"
     ]
    },
    {
     "data": {
      "application/vnd.jupyter.widget-view+json": {
       "model_id": "",
       "version_major": 2,
       "version_minor": 0
      },
      "text/plain": [
       "Validation: |          | 0/? [00:00<?, ?it/s]"
      ]
     },
     "metadata": {},
     "output_type": "display_data"
    },
    {
     "name": "stderr",
     "output_type": "stream",
     "text": [
      "Metric val/tas/rmse improved by 0.090 >= min_delta = 0.001. New best score: 4.219\n"
     ]
    },
    {
     "name": "stdout",
     "output_type": "stream",
     "text": [
      "[VAL] tas: RMSE=4.2185, Time-Mean RMSE=2.7903, Time-Stddev MAE=1.1477\n"
     ]
    },
    {
     "data": {
      "application/vnd.jupyter.widget-view+json": {
       "model_id": "",
       "version_major": 2,
       "version_minor": 0
      },
      "text/plain": [
       "Validation: |          | 0/? [00:00<?, ?it/s]"
      ]
     },
     "metadata": {},
     "output_type": "display_data"
    },
    {
     "name": "stdout",
     "output_type": "stream",
     "text": [
      "[VAL] tas: RMSE=4.3033, Time-Mean RMSE=2.8538, Time-Stddev MAE=1.4800\n"
     ]
    },
    {
     "data": {
      "application/vnd.jupyter.widget-view+json": {
       "model_id": "",
       "version_major": 2,
       "version_minor": 0
      },
      "text/plain": [
       "Validation: |          | 0/? [00:00<?, ?it/s]"
      ]
     },
     "metadata": {},
     "output_type": "display_data"
    },
    {
     "name": "stderr",
     "output_type": "stream",
     "text": [
      "Metric val/tas/rmse improved by 0.080 >= min_delta = 0.001. New best score: 4.138\n"
     ]
    },
    {
     "name": "stdout",
     "output_type": "stream",
     "text": [
      "[VAL] tas: RMSE=4.1385, Time-Mean RMSE=2.6992, Time-Stddev MAE=1.1822\n"
     ]
    },
    {
     "data": {
      "application/vnd.jupyter.widget-view+json": {
       "model_id": "",
       "version_major": 2,
       "version_minor": 0
      },
      "text/plain": [
       "Validation: |          | 0/? [00:00<?, ?it/s]"
      ]
     },
     "metadata": {},
     "output_type": "display_data"
    },
    {
     "name": "stdout",
     "output_type": "stream",
     "text": [
      "[VAL] tas: RMSE=4.1806, Time-Mean RMSE=2.7505, Time-Stddev MAE=1.1804\n"
     ]
    },
    {
     "data": {
      "application/vnd.jupyter.widget-view+json": {
       "model_id": "",
       "version_major": 2,
       "version_minor": 0
      },
      "text/plain": [
       "Validation: |          | 0/? [00:00<?, ?it/s]"
      ]
     },
     "metadata": {},
     "output_type": "display_data"
    },
    {
     "name": "stderr",
     "output_type": "stream",
     "text": [
      "Metric val/tas/rmse improved by 0.051 >= min_delta = 0.001. New best score: 4.087\n"
     ]
    },
    {
     "name": "stdout",
     "output_type": "stream",
     "text": [
      "[VAL] tas: RMSE=4.0874, Time-Mean RMSE=2.6615, Time-Stddev MAE=1.1862\n"
     ]
    },
    {
     "data": {
      "application/vnd.jupyter.widget-view+json": {
       "model_id": "",
       "version_major": 2,
       "version_minor": 0
      },
      "text/plain": [
       "Validation: |          | 0/? [00:00<?, ?it/s]"
      ]
     },
     "metadata": {},
     "output_type": "display_data"
    },
    {
     "name": "stderr",
     "output_type": "stream",
     "text": [
      "Metric val/tas/rmse improved by 0.031 >= min_delta = 0.001. New best score: 4.056\n"
     ]
    },
    {
     "name": "stdout",
     "output_type": "stream",
     "text": [
      "[VAL] tas: RMSE=4.0560, Time-Mean RMSE=2.6318, Time-Stddev MAE=1.1232\n"
     ]
    },
    {
     "data": {
      "application/vnd.jupyter.widget-view+json": {
       "model_id": "",
       "version_major": 2,
       "version_minor": 0
      },
      "text/plain": [
       "Validation: |          | 0/? [00:00<?, ?it/s]"
      ]
     },
     "metadata": {},
     "output_type": "display_data"
    },
    {
     "name": "stdout",
     "output_type": "stream",
     "text": [
      "[VAL] tas: RMSE=4.0558, Time-Mean RMSE=2.6312, Time-Stddev MAE=1.0212\n"
     ]
    },
    {
     "data": {
      "application/vnd.jupyter.widget-view+json": {
       "model_id": "",
       "version_major": 2,
       "version_minor": 0
      },
      "text/plain": [
       "Validation: |          | 0/? [00:00<?, ?it/s]"
      ]
     },
     "metadata": {},
     "output_type": "display_data"
    },
    {
     "name": "stderr",
     "output_type": "stream",
     "text": [
      "Metric val/tas/rmse improved by 0.036 >= min_delta = 0.001. New best score: 4.020\n"
     ]
    },
    {
     "name": "stdout",
     "output_type": "stream",
     "text": [
      "[VAL] tas: RMSE=4.0201, Time-Mean RMSE=2.5780, Time-Stddev MAE=0.9606\n"
     ]
    },
    {
     "data": {
      "application/vnd.jupyter.widget-view+json": {
       "model_id": "",
       "version_major": 2,
       "version_minor": 0
      },
      "text/plain": [
       "Validation: |          | 0/? [00:00<?, ?it/s]"
      ]
     },
     "metadata": {},
     "output_type": "display_data"
    },
    {
     "name": "stderr",
     "output_type": "stream",
     "text": [
      "Metric val/tas/rmse improved by 0.033 >= min_delta = 0.001. New best score: 3.987\n"
     ]
    },
    {
     "name": "stdout",
     "output_type": "stream",
     "text": [
      "[VAL] tas: RMSE=3.9870, Time-Mean RMSE=2.5926, Time-Stddev MAE=1.1000\n"
     ]
    },
    {
     "data": {
      "application/vnd.jupyter.widget-view+json": {
       "model_id": "6dff9e19f7e64808a7d131f4675d50fc",
       "version_major": 2,
       "version_minor": 0
      },
      "text/plain": [
       "Validation: |          | 0/? [00:00<?, ?it/s]"
      ]
     },
     "metadata": {},
     "output_type": "display_data"
    },
    {
     "name": "stdout",
     "output_type": "stream",
     "text": [
      "[VAL] tas: RMSE=4.0189, Time-Mean RMSE=2.6421, Time-Stddev MAE=1.1179\n"
     ]
    },
    {
     "data": {
      "application/vnd.jupyter.widget-view+json": {
       "model_id": "d6abf32c8b3745788508c5423fdc7f8c",
       "version_major": 2,
       "version_minor": 0
      },
      "text/plain": [
       "Validation: |          | 0/? [00:00<?, ?it/s]"
      ]
     },
     "metadata": {},
     "output_type": "display_data"
    },
    {
     "name": "stdout",
     "output_type": "stream",
     "text": [
      "[VAL] tas: RMSE=4.1433, Time-Mean RMSE=2.8129, Time-Stddev MAE=0.9974\n"
     ]
    },
    {
     "data": {
      "application/vnd.jupyter.widget-view+json": {
       "model_id": "",
       "version_major": 2,
       "version_minor": 0
      },
      "text/plain": [
       "Validation: |          | 0/? [00:00<?, ?it/s]"
      ]
     },
     "metadata": {},
     "output_type": "display_data"
    },
    {
     "name": "stderr",
     "output_type": "stream",
     "text": [
      "Metric val/tas/rmse improved by 0.061 >= min_delta = 0.001. New best score: 3.926\n"
     ]
    },
    {
     "name": "stdout",
     "output_type": "stream",
     "text": [
      "[VAL] tas: RMSE=3.9257, Time-Mean RMSE=2.5289, Time-Stddev MAE=1.2664\n"
     ]
    },
    {
     "data": {
      "application/vnd.jupyter.widget-view+json": {
       "model_id": "",
       "version_major": 2,
       "version_minor": 0
      },
      "text/plain": [
       "Validation: |          | 0/? [00:00<?, ?it/s]"
      ]
     },
     "metadata": {},
     "output_type": "display_data"
    },
    {
     "name": "stderr",
     "output_type": "stream",
     "text": [
      "Metric val/tas/rmse improved by 0.034 >= min_delta = 0.001. New best score: 3.892\n"
     ]
    },
    {
     "name": "stdout",
     "output_type": "stream",
     "text": [
      "[VAL] tas: RMSE=3.8919, Time-Mean RMSE=2.4977, Time-Stddev MAE=1.1221\n"
     ]
    },
    {
     "data": {
      "application/vnd.jupyter.widget-view+json": {
       "model_id": "",
       "version_major": 2,
       "version_minor": 0
      },
      "text/plain": [
       "Validation: |          | 0/? [00:00<?, ?it/s]"
      ]
     },
     "metadata": {},
     "output_type": "display_data"
    },
    {
     "name": "stdout",
     "output_type": "stream",
     "text": [
      "[VAL] tas: RMSE=3.9164, Time-Mean RMSE=2.6133, Time-Stddev MAE=1.2701\n"
     ]
    },
    {
     "data": {
      "application/vnd.jupyter.widget-view+json": {
       "model_id": "",
       "version_major": 2,
       "version_minor": 0
      },
      "text/plain": [
       "Validation: |          | 0/? [00:00<?, ?it/s]"
      ]
     },
     "metadata": {},
     "output_type": "display_data"
    },
    {
     "name": "stderr",
     "output_type": "stream",
     "text": [
      "Metric val/tas/rmse improved by 0.130 >= min_delta = 0.001. New best score: 3.762\n"
     ]
    },
    {
     "name": "stdout",
     "output_type": "stream",
     "text": [
      "[VAL] tas: RMSE=3.7618, Time-Mean RMSE=2.4060, Time-Stddev MAE=0.9664\n"
     ]
    },
    {
     "data": {
      "application/vnd.jupyter.widget-view+json": {
       "model_id": "",
       "version_major": 2,
       "version_minor": 0
      },
      "text/plain": [
       "Validation: |          | 0/? [00:00<?, ?it/s]"
      ]
     },
     "metadata": {},
     "output_type": "display_data"
    },
    {
     "name": "stderr",
     "output_type": "stream",
     "text": [
      "Metric val/tas/rmse improved by 0.047 >= min_delta = 0.001. New best score: 3.715\n"
     ]
    },
    {
     "name": "stdout",
     "output_type": "stream",
     "text": [
      "[VAL] tas: RMSE=3.7145, Time-Mean RMSE=2.4370, Time-Stddev MAE=1.0134\n"
     ]
    },
    {
     "data": {
      "application/vnd.jupyter.widget-view+json": {
       "model_id": "",
       "version_major": 2,
       "version_minor": 0
      },
      "text/plain": [
       "Validation: |          | 0/? [00:00<?, ?it/s]"
      ]
     },
     "metadata": {},
     "output_type": "display_data"
    },
    {
     "name": "stderr",
     "output_type": "stream",
     "text": [
      "Metric val/tas/rmse improved by 0.017 >= min_delta = 0.001. New best score: 3.698\n"
     ]
    },
    {
     "name": "stdout",
     "output_type": "stream",
     "text": [
      "[VAL] tas: RMSE=3.6977, Time-Mean RMSE=2.3896, Time-Stddev MAE=0.9523\n"
     ]
    },
    {
     "data": {
      "application/vnd.jupyter.widget-view+json": {
       "model_id": "",
       "version_major": 2,
       "version_minor": 0
      },
      "text/plain": [
       "Validation: |          | 0/? [00:00<?, ?it/s]"
      ]
     },
     "metadata": {},
     "output_type": "display_data"
    },
    {
     "name": "stderr",
     "output_type": "stream",
     "text": [
      "Metric val/tas/rmse improved by 0.078 >= min_delta = 0.001. New best score: 3.619\n"
     ]
    },
    {
     "name": "stdout",
     "output_type": "stream",
     "text": [
      "[VAL] tas: RMSE=3.6195, Time-Mean RMSE=2.3744, Time-Stddev MAE=1.1610\n"
     ]
    },
    {
     "data": {
      "application/vnd.jupyter.widget-view+json": {
       "model_id": "",
       "version_major": 2,
       "version_minor": 0
      },
      "text/plain": [
       "Validation: |          | 0/? [00:00<?, ?it/s]"
      ]
     },
     "metadata": {},
     "output_type": "display_data"
    },
    {
     "name": "stderr",
     "output_type": "stream",
     "text": [
      "Metric val/tas/rmse improved by 0.042 >= min_delta = 0.001. New best score: 3.578\n"
     ]
    },
    {
     "name": "stdout",
     "output_type": "stream",
     "text": [
      "[VAL] tas: RMSE=3.5777, Time-Mean RMSE=2.3858, Time-Stddev MAE=1.1050\n"
     ]
    },
    {
     "data": {
      "application/vnd.jupyter.widget-view+json": {
       "model_id": "",
       "version_major": 2,
       "version_minor": 0
      },
      "text/plain": [
       "Validation: |          | 0/? [00:00<?, ?it/s]"
      ]
     },
     "metadata": {},
     "output_type": "display_data"
    },
    {
     "name": "stdout",
     "output_type": "stream",
     "text": [
      "[VAL] tas: RMSE=3.6587, Time-Mean RMSE=2.4736, Time-Stddev MAE=1.1991\n"
     ]
    },
    {
     "data": {
      "application/vnd.jupyter.widget-view+json": {
       "model_id": "",
       "version_major": 2,
       "version_minor": 0
      },
      "text/plain": [
       "Validation: |          | 0/? [00:00<?, ?it/s]"
      ]
     },
     "metadata": {},
     "output_type": "display_data"
    },
    {
     "name": "stderr",
     "output_type": "stream",
     "text": [
      "Metric val/tas/rmse improved by 0.110 >= min_delta = 0.001. New best score: 3.468\n"
     ]
    },
    {
     "name": "stdout",
     "output_type": "stream",
     "text": [
      "[VAL] tas: RMSE=3.4676, Time-Mean RMSE=2.3282, Time-Stddev MAE=0.9559\n"
     ]
    },
    {
     "data": {
      "application/vnd.jupyter.widget-view+json": {
       "model_id": "",
       "version_major": 2,
       "version_minor": 0
      },
      "text/plain": [
       "Validation: |          | 0/? [00:00<?, ?it/s]"
      ]
     },
     "metadata": {},
     "output_type": "display_data"
    },
    {
     "name": "stdout",
     "output_type": "stream",
     "text": [
      "[VAL] tas: RMSE=3.5010, Time-Mean RMSE=2.3959, Time-Stddev MAE=1.0673\n"
     ]
    },
    {
     "data": {
      "application/vnd.jupyter.widget-view+json": {
       "model_id": "",
       "version_major": 2,
       "version_minor": 0
      },
      "text/plain": [
       "Validation: |          | 0/? [00:00<?, ?it/s]"
      ]
     },
     "metadata": {},
     "output_type": "display_data"
    },
    {
     "name": "stdout",
     "output_type": "stream",
     "text": [
      "[VAL] tas: RMSE=3.6167, Time-Mean RMSE=2.3695, Time-Stddev MAE=0.9473\n"
     ]
    },
    {
     "data": {
      "application/vnd.jupyter.widget-view+json": {
       "model_id": "",
       "version_major": 2,
       "version_minor": 0
      },
      "text/plain": [
       "Validation: |          | 0/? [00:00<?, ?it/s]"
      ]
     },
     "metadata": {},
     "output_type": "display_data"
    },
    {
     "name": "stderr",
     "output_type": "stream",
     "text": [
      "Metric val/tas/rmse improved by 0.134 >= min_delta = 0.001. New best score: 3.333\n"
     ]
    },
    {
     "name": "stdout",
     "output_type": "stream",
     "text": [
      "[VAL] tas: RMSE=3.3335, Time-Mean RMSE=2.2392, Time-Stddev MAE=0.9978\n"
     ]
    },
    {
     "data": {
      "application/vnd.jupyter.widget-view+json": {
       "model_id": "",
       "version_major": 2,
       "version_minor": 0
      },
      "text/plain": [
       "Validation: |          | 0/? [00:00<?, ?it/s]"
      ]
     },
     "metadata": {},
     "output_type": "display_data"
    },
    {
     "name": "stderr",
     "output_type": "stream",
     "text": [
      "Metric val/tas/rmse improved by 0.004 >= min_delta = 0.001. New best score: 3.330\n"
     ]
    },
    {
     "name": "stdout",
     "output_type": "stream",
     "text": [
      "[VAL] tas: RMSE=3.3297, Time-Mean RMSE=2.3013, Time-Stddev MAE=0.9673\n"
     ]
    },
    {
     "data": {
      "application/vnd.jupyter.widget-view+json": {
       "model_id": "",
       "version_major": 2,
       "version_minor": 0
      },
      "text/plain": [
       "Validation: |          | 0/? [00:00<?, ?it/s]"
      ]
     },
     "metadata": {},
     "output_type": "display_data"
    },
    {
     "name": "stderr",
     "output_type": "stream",
     "text": [
      "Metric val/tas/rmse improved by 0.132 >= min_delta = 0.001. New best score: 3.198\n"
     ]
    },
    {
     "name": "stdout",
     "output_type": "stream",
     "text": [
      "[VAL] tas: RMSE=3.1981, Time-Mean RMSE=2.1504, Time-Stddev MAE=0.8683\n"
     ]
    },
    {
     "data": {
      "application/vnd.jupyter.widget-view+json": {
       "model_id": "",
       "version_major": 2,
       "version_minor": 0
      },
      "text/plain": [
       "Validation: |          | 0/? [00:00<?, ?it/s]"
      ]
     },
     "metadata": {},
     "output_type": "display_data"
    },
    {
     "name": "stdout",
     "output_type": "stream",
     "text": [
      "[VAL] tas: RMSE=3.2301, Time-Mean RMSE=2.1961, Time-Stddev MAE=0.8149\n"
     ]
    },
    {
     "data": {
      "application/vnd.jupyter.widget-view+json": {
       "model_id": "",
       "version_major": 2,
       "version_minor": 0
      },
      "text/plain": [
       "Validation: |          | 0/? [00:00<?, ?it/s]"
      ]
     },
     "metadata": {},
     "output_type": "display_data"
    },
    {
     "name": "stderr",
     "output_type": "stream",
     "text": [
      "Metric val/tas/rmse improved by 0.175 >= min_delta = 0.001. New best score: 3.023\n"
     ]
    },
    {
     "name": "stdout",
     "output_type": "stream",
     "text": [
      "[VAL] tas: RMSE=3.0234, Time-Mean RMSE=1.9547, Time-Stddev MAE=1.0190\n"
     ]
    },
    {
     "data": {
      "application/vnd.jupyter.widget-view+json": {
       "model_id": "",
       "version_major": 2,
       "version_minor": 0
      },
      "text/plain": [
       "Validation: |          | 0/? [00:00<?, ?it/s]"
      ]
     },
     "metadata": {},
     "output_type": "display_data"
    },
    {
     "name": "stdout",
     "output_type": "stream",
     "text": [
      "[VAL] tas: RMSE=3.0780, Time-Mean RMSE=2.0961, Time-Stddev MAE=0.9091\n"
     ]
    },
    {
     "data": {
      "application/vnd.jupyter.widget-view+json": {
       "model_id": "",
       "version_major": 2,
       "version_minor": 0
      },
      "text/plain": [
       "Validation: |          | 0/? [00:00<?, ?it/s]"
      ]
     },
     "metadata": {},
     "output_type": "display_data"
    },
    {
     "name": "stderr",
     "output_type": "stream",
     "text": [
      "Metric val/tas/rmse improved by 0.107 >= min_delta = 0.001. New best score: 2.916\n"
     ]
    },
    {
     "name": "stdout",
     "output_type": "stream",
     "text": [
      "[VAL] tas: RMSE=2.9159, Time-Mean RMSE=1.7683, Time-Stddev MAE=0.7645\n"
     ]
    },
    {
     "data": {
      "application/vnd.jupyter.widget-view+json": {
       "model_id": "",
       "version_major": 2,
       "version_minor": 0
      },
      "text/plain": [
       "Validation: |          | 0/? [00:00<?, ?it/s]"
      ]
     },
     "metadata": {},
     "output_type": "display_data"
    },
    {
     "name": "stderr",
     "output_type": "stream",
     "text": [
      "Metric val/tas/rmse improved by 0.208 >= min_delta = 0.001. New best score: 2.708\n"
     ]
    },
    {
     "name": "stdout",
     "output_type": "stream",
     "text": [
      "[VAL] tas: RMSE=2.7082, Time-Mean RMSE=1.5781, Time-Stddev MAE=0.8655\n"
     ]
    },
    {
     "data": {
      "application/vnd.jupyter.widget-view+json": {
       "model_id": "",
       "version_major": 2,
       "version_minor": 0
      },
      "text/plain": [
       "Validation: |          | 0/? [00:00<?, ?it/s]"
      ]
     },
     "metadata": {},
     "output_type": "display_data"
    },
    {
     "name": "stderr",
     "output_type": "stream",
     "text": [
      "Metric val/tas/rmse improved by 0.078 >= min_delta = 0.001. New best score: 2.630\n"
     ]
    },
    {
     "name": "stdout",
     "output_type": "stream",
     "text": [
      "[VAL] tas: RMSE=2.6299, Time-Mean RMSE=1.4717, Time-Stddev MAE=0.8364\n"
     ]
    },
    {
     "data": {
      "application/vnd.jupyter.widget-view+json": {
       "model_id": "",
       "version_major": 2,
       "version_minor": 0
      },
      "text/plain": [
       "Validation: |          | 0/? [00:00<?, ?it/s]"
      ]
     },
     "metadata": {},
     "output_type": "display_data"
    },
    {
     "name": "stderr",
     "output_type": "stream",
     "text": [
      "Metric val/tas/rmse improved by 0.229 >= min_delta = 0.001. New best score: 2.401\n"
     ]
    },
    {
     "name": "stdout",
     "output_type": "stream",
     "text": [
      "[VAL] tas: RMSE=2.4006, Time-Mean RMSE=1.1971, Time-Stddev MAE=0.7013\n"
     ]
    },
    {
     "data": {
      "application/vnd.jupyter.widget-view+json": {
       "model_id": "",
       "version_major": 2,
       "version_minor": 0
      },
      "text/plain": [
       "Validation: |          | 0/? [00:00<?, ?it/s]"
      ]
     },
     "metadata": {},
     "output_type": "display_data"
    },
    {
     "name": "stderr",
     "output_type": "stream",
     "text": [
      "Metric val/tas/rmse improved by 0.146 >= min_delta = 0.001. New best score: 2.254\n"
     ]
    },
    {
     "name": "stdout",
     "output_type": "stream",
     "text": [
      "[VAL] tas: RMSE=2.2544, Time-Mean RMSE=1.0390, Time-Stddev MAE=0.8536\n"
     ]
    },
    {
     "data": {
      "application/vnd.jupyter.widget-view+json": {
       "model_id": "",
       "version_major": 2,
       "version_minor": 0
      },
      "text/plain": [
       "Validation: |          | 0/? [00:00<?, ?it/s]"
      ]
     },
     "metadata": {},
     "output_type": "display_data"
    },
    {
     "name": "stdout",
     "output_type": "stream",
     "text": [
      "[VAL] tas: RMSE=2.2871, Time-Mean RMSE=1.1402, Time-Stddev MAE=0.7680\n"
     ]
    },
    {
     "data": {
      "application/vnd.jupyter.widget-view+json": {
       "model_id": "",
       "version_major": 2,
       "version_minor": 0
      },
      "text/plain": [
       "Validation: |          | 0/? [00:00<?, ?it/s]"
      ]
     },
     "metadata": {},
     "output_type": "display_data"
    },
    {
     "name": "stdout",
     "output_type": "stream",
     "text": [
      "[VAL] tas: RMSE=2.3334, Time-Mean RMSE=1.2869, Time-Stddev MAE=0.7466\n"
     ]
    },
    {
     "data": {
      "application/vnd.jupyter.widget-view+json": {
       "model_id": "",
       "version_major": 2,
       "version_minor": 0
      },
      "text/plain": [
       "Validation: |          | 0/? [00:00<?, ?it/s]"
      ]
     },
     "metadata": {},
     "output_type": "display_data"
    },
    {
     "name": "stderr",
     "output_type": "stream",
     "text": [
      "Metric val/tas/rmse improved by 0.115 >= min_delta = 0.001. New best score: 2.139\n"
     ]
    },
    {
     "name": "stdout",
     "output_type": "stream",
     "text": [
      "[VAL] tas: RMSE=2.1390, Time-Mean RMSE=0.9701, Time-Stddev MAE=0.7237\n"
     ]
    },
    {
     "data": {
      "application/vnd.jupyter.widget-view+json": {
       "model_id": "",
       "version_major": 2,
       "version_minor": 0
      },
      "text/plain": [
       "Validation: |          | 0/? [00:00<?, ?it/s]"
      ]
     },
     "metadata": {},
     "output_type": "display_data"
    },
    {
     "name": "stderr",
     "output_type": "stream",
     "text": [
      "Metric val/tas/rmse improved by 0.046 >= min_delta = 0.001. New best score: 2.093\n"
     ]
    },
    {
     "name": "stdout",
     "output_type": "stream",
     "text": [
      "[VAL] tas: RMSE=2.0932, Time-Mean RMSE=0.9744, Time-Stddev MAE=0.7206\n"
     ]
    },
    {
     "data": {
      "application/vnd.jupyter.widget-view+json": {
       "model_id": "",
       "version_major": 2,
       "version_minor": 0
      },
      "text/plain": [
       "Validation: |          | 0/? [00:00<?, ?it/s]"
      ]
     },
     "metadata": {},
     "output_type": "display_data"
    },
    {
     "name": "stderr",
     "output_type": "stream",
     "text": [
      "Metric val/tas/rmse improved by 0.009 >= min_delta = 0.001. New best score: 2.084\n"
     ]
    },
    {
     "name": "stdout",
     "output_type": "stream",
     "text": [
      "[VAL] tas: RMSE=2.0838, Time-Mean RMSE=0.9121, Time-Stddev MAE=0.7205\n"
     ]
    },
    {
     "data": {
      "application/vnd.jupyter.widget-view+json": {
       "model_id": "",
       "version_major": 2,
       "version_minor": 0
      },
      "text/plain": [
       "Validation: |          | 0/? [00:00<?, ?it/s]"
      ]
     },
     "metadata": {},
     "output_type": "display_data"
    },
    {
     "name": "stderr",
     "output_type": "stream",
     "text": [
      "Metric val/tas/rmse improved by 0.069 >= min_delta = 0.001. New best score: 2.015\n"
     ]
    },
    {
     "name": "stdout",
     "output_type": "stream",
     "text": [
      "[VAL] tas: RMSE=2.0147, Time-Mean RMSE=0.9252, Time-Stddev MAE=0.6543\n"
     ]
    },
    {
     "data": {
      "application/vnd.jupyter.widget-view+json": {
       "model_id": "",
       "version_major": 2,
       "version_minor": 0
      },
      "text/plain": [
       "Validation: |          | 0/? [00:00<?, ?it/s]"
      ]
     },
     "metadata": {},
     "output_type": "display_data"
    },
    {
     "name": "stdout",
     "output_type": "stream",
     "text": [
      "[VAL] tas: RMSE=2.3317, Time-Mean RMSE=0.9745, Time-Stddev MAE=0.8724\n"
     ]
    },
    {
     "data": {
      "application/vnd.jupyter.widget-view+json": {
       "model_id": "",
       "version_major": 2,
       "version_minor": 0
      },
      "text/plain": [
       "Validation: |          | 0/? [00:00<?, ?it/s]"
      ]
     },
     "metadata": {},
     "output_type": "display_data"
    },
    {
     "name": "stdout",
     "output_type": "stream",
     "text": [
      "[VAL] tas: RMSE=2.0719, Time-Mean RMSE=0.9233, Time-Stddev MAE=0.5973\n"
     ]
    },
    {
     "data": {
      "application/vnd.jupyter.widget-view+json": {
       "model_id": "",
       "version_major": 2,
       "version_minor": 0
      },
      "text/plain": [
       "Validation: |          | 0/? [00:00<?, ?it/s]"
      ]
     },
     "metadata": {},
     "output_type": "display_data"
    },
    {
     "name": "stderr",
     "output_type": "stream",
     "text": [
      "Metric val/tas/rmse improved by 0.138 >= min_delta = 0.001. New best score: 1.877\n"
     ]
    },
    {
     "name": "stdout",
     "output_type": "stream",
     "text": [
      "[VAL] tas: RMSE=1.8766, Time-Mean RMSE=0.8465, Time-Stddev MAE=0.6043\n"
     ]
    },
    {
     "data": {
      "application/vnd.jupyter.widget-view+json": {
       "model_id": "",
       "version_major": 2,
       "version_minor": 0
      },
      "text/plain": [
       "Validation: |          | 0/? [00:00<?, ?it/s]"
      ]
     },
     "metadata": {},
     "output_type": "display_data"
    },
    {
     "name": "stdout",
     "output_type": "stream",
     "text": [
      "[VAL] tas: RMSE=1.9483, Time-Mean RMSE=1.0084, Time-Stddev MAE=0.5593\n"
     ]
    },
    {
     "data": {
      "application/vnd.jupyter.widget-view+json": {
       "model_id": "",
       "version_major": 2,
       "version_minor": 0
      },
      "text/plain": [
       "Validation: |          | 0/? [00:00<?, ?it/s]"
      ]
     },
     "metadata": {},
     "output_type": "display_data"
    },
    {
     "name": "stderr",
     "output_type": "stream",
     "text": [
      "Metric val/tas/rmse improved by 0.086 >= min_delta = 0.001. New best score: 1.791\n"
     ]
    },
    {
     "name": "stdout",
     "output_type": "stream",
     "text": [
      "[VAL] tas: RMSE=1.7905, Time-Mean RMSE=0.8170, Time-Stddev MAE=0.5915\n"
     ]
    },
    {
     "data": {
      "application/vnd.jupyter.widget-view+json": {
       "model_id": "",
       "version_major": 2,
       "version_minor": 0
      },
      "text/plain": [
       "Validation: |          | 0/? [00:00<?, ?it/s]"
      ]
     },
     "metadata": {},
     "output_type": "display_data"
    },
    {
     "name": "stdout",
     "output_type": "stream",
     "text": [
      "[VAL] tas: RMSE=1.8025, Time-Mean RMSE=0.8536, Time-Stddev MAE=0.5836\n"
     ]
    },
    {
     "data": {
      "application/vnd.jupyter.widget-view+json": {
       "model_id": "",
       "version_major": 2,
       "version_minor": 0
      },
      "text/plain": [
       "Validation: |          | 0/? [00:00<?, ?it/s]"
      ]
     },
     "metadata": {},
     "output_type": "display_data"
    },
    {
     "name": "stderr",
     "output_type": "stream",
     "text": [
      "Metric val/tas/rmse improved by 0.006 >= min_delta = 0.001. New best score: 1.785\n"
     ]
    },
    {
     "name": "stdout",
     "output_type": "stream",
     "text": [
      "[VAL] tas: RMSE=1.7850, Time-Mean RMSE=0.8855, Time-Stddev MAE=0.6325\n"
     ]
    },
    {
     "data": {
      "application/vnd.jupyter.widget-view+json": {
       "model_id": "",
       "version_major": 2,
       "version_minor": 0
      },
      "text/plain": [
       "Validation: |          | 0/? [00:00<?, ?it/s]"
      ]
     },
     "metadata": {},
     "output_type": "display_data"
    },
    {
     "name": "stderr",
     "output_type": "stream",
     "text": [
      "Metric val/tas/rmse improved by 0.043 >= min_delta = 0.001. New best score: 1.742\n"
     ]
    },
    {
     "name": "stdout",
     "output_type": "stream",
     "text": [
      "[VAL] tas: RMSE=1.7419, Time-Mean RMSE=0.8613, Time-Stddev MAE=0.5552\n"
     ]
    },
    {
     "data": {
      "application/vnd.jupyter.widget-view+json": {
       "model_id": "",
       "version_major": 2,
       "version_minor": 0
      },
      "text/plain": [
       "Validation: |          | 0/? [00:00<?, ?it/s]"
      ]
     },
     "metadata": {},
     "output_type": "display_data"
    },
    {
     "name": "stdout",
     "output_type": "stream",
     "text": [
      "[VAL] tas: RMSE=1.7751, Time-Mean RMSE=0.9327, Time-Stddev MAE=0.5297\n"
     ]
    },
    {
     "data": {
      "application/vnd.jupyter.widget-view+json": {
       "model_id": "",
       "version_major": 2,
       "version_minor": 0
      },
      "text/plain": [
       "Validation: |          | 0/? [00:00<?, ?it/s]"
      ]
     },
     "metadata": {},
     "output_type": "display_data"
    },
    {
     "name": "stderr",
     "output_type": "stream",
     "text": [
      "Metric val/tas/rmse improved by 0.025 >= min_delta = 0.001. New best score: 1.717\n"
     ]
    },
    {
     "name": "stdout",
     "output_type": "stream",
     "text": [
      "[VAL] tas: RMSE=1.7168, Time-Mean RMSE=0.7930, Time-Stddev MAE=0.4694\n"
     ]
    },
    {
     "data": {
      "application/vnd.jupyter.widget-view+json": {
       "model_id": "",
       "version_major": 2,
       "version_minor": 0
      },
      "text/plain": [
       "Validation: |          | 0/? [00:00<?, ?it/s]"
      ]
     },
     "metadata": {},
     "output_type": "display_data"
    },
    {
     "name": "stderr",
     "output_type": "stream",
     "text": [
      "Metric val/tas/rmse improved by 0.048 >= min_delta = 0.001. New best score: 1.669\n"
     ]
    },
    {
     "name": "stdout",
     "output_type": "stream",
     "text": [
      "[VAL] tas: RMSE=1.6688, Time-Mean RMSE=0.8390, Time-Stddev MAE=0.5102\n"
     ]
    },
    {
     "data": {
      "application/vnd.jupyter.widget-view+json": {
       "model_id": "",
       "version_major": 2,
       "version_minor": 0
      },
      "text/plain": [
       "Validation: |          | 0/? [00:00<?, ?it/s]"
      ]
     },
     "metadata": {},
     "output_type": "display_data"
    },
    {
     "name": "stderr",
     "output_type": "stream",
     "text": [
      "Metric val/tas/rmse improved by 0.081 >= min_delta = 0.001. New best score: 1.587\n"
     ]
    },
    {
     "name": "stdout",
     "output_type": "stream",
     "text": [
      "[VAL] tas: RMSE=1.5873, Time-Mean RMSE=0.7442, Time-Stddev MAE=0.4706\n"
     ]
    },
    {
     "data": {
      "application/vnd.jupyter.widget-view+json": {
       "model_id": "",
       "version_major": 2,
       "version_minor": 0
      },
      "text/plain": [
       "Validation: |          | 0/? [00:00<?, ?it/s]"
      ]
     },
     "metadata": {},
     "output_type": "display_data"
    },
    {
     "name": "stdout",
     "output_type": "stream",
     "text": [
      "[VAL] tas: RMSE=1.6001, Time-Mean RMSE=0.7404, Time-Stddev MAE=0.5039\n"
     ]
    },
    {
     "data": {
      "application/vnd.jupyter.widget-view+json": {
       "model_id": "",
       "version_major": 2,
       "version_minor": 0
      },
      "text/plain": [
       "Validation: |          | 0/? [00:00<?, ?it/s]"
      ]
     },
     "metadata": {},
     "output_type": "display_data"
    },
    {
     "name": "stdout",
     "output_type": "stream",
     "text": [
      "[VAL] tas: RMSE=1.7973, Time-Mean RMSE=0.8218, Time-Stddev MAE=0.5085\n"
     ]
    },
    {
     "data": {
      "application/vnd.jupyter.widget-view+json": {
       "model_id": "",
       "version_major": 2,
       "version_minor": 0
      },
      "text/plain": [
       "Validation: |          | 0/? [00:00<?, ?it/s]"
      ]
     },
     "metadata": {},
     "output_type": "display_data"
    },
    {
     "name": "stderr",
     "output_type": "stream",
     "text": [
      "Metric val/tas/rmse improved by 0.011 >= min_delta = 0.001. New best score: 1.576\n"
     ]
    },
    {
     "name": "stdout",
     "output_type": "stream",
     "text": [
      "[VAL] tas: RMSE=1.5764, Time-Mean RMSE=0.7921, Time-Stddev MAE=0.4780\n"
     ]
    },
    {
     "data": {
      "application/vnd.jupyter.widget-view+json": {
       "model_id": "",
       "version_major": 2,
       "version_minor": 0
      },
      "text/plain": [
       "Validation: |          | 0/? [00:00<?, ?it/s]"
      ]
     },
     "metadata": {},
     "output_type": "display_data"
    },
    {
     "name": "stdout",
     "output_type": "stream",
     "text": [
      "[VAL] tas: RMSE=1.5783, Time-Mean RMSE=0.7645, Time-Stddev MAE=0.5561\n"
     ]
    },
    {
     "data": {
      "application/vnd.jupyter.widget-view+json": {
       "model_id": "",
       "version_major": 2,
       "version_minor": 0
      },
      "text/plain": [
       "Validation: |          | 0/? [00:00<?, ?it/s]"
      ]
     },
     "metadata": {},
     "output_type": "display_data"
    },
    {
     "name": "stderr",
     "output_type": "stream",
     "text": [
      "Metric val/tas/rmse improved by 0.089 >= min_delta = 0.001. New best score: 1.488\n"
     ]
    },
    {
     "name": "stdout",
     "output_type": "stream",
     "text": [
      "[VAL] tas: RMSE=1.4877, Time-Mean RMSE=0.6700, Time-Stddev MAE=0.4425\n"
     ]
    },
    {
     "data": {
      "application/vnd.jupyter.widget-view+json": {
       "model_id": "",
       "version_major": 2,
       "version_minor": 0
      },
      "text/plain": [
       "Validation: |          | 0/? [00:00<?, ?it/s]"
      ]
     },
     "metadata": {},
     "output_type": "display_data"
    },
    {
     "name": "stdout",
     "output_type": "stream",
     "text": [
      "[VAL] tas: RMSE=1.5333, Time-Mean RMSE=0.7822, Time-Stddev MAE=0.4851\n"
     ]
    },
    {
     "data": {
      "application/vnd.jupyter.widget-view+json": {
       "model_id": "",
       "version_major": 2,
       "version_minor": 0
      },
      "text/plain": [
       "Validation: |          | 0/? [00:00<?, ?it/s]"
      ]
     },
     "metadata": {},
     "output_type": "display_data"
    },
    {
     "name": "stdout",
     "output_type": "stream",
     "text": [
      "[VAL] tas: RMSE=1.6161, Time-Mean RMSE=0.7564, Time-Stddev MAE=0.6333\n"
     ]
    },
    {
     "data": {
      "application/vnd.jupyter.widget-view+json": {
       "model_id": "",
       "version_major": 2,
       "version_minor": 0
      },
      "text/plain": [
       "Validation: |          | 0/? [00:00<?, ?it/s]"
      ]
     },
     "metadata": {},
     "output_type": "display_data"
    },
    {
     "name": "stdout",
     "output_type": "stream",
     "text": [
      "[VAL] tas: RMSE=1.5266, Time-Mean RMSE=0.8467, Time-Stddev MAE=0.4133\n"
     ]
    },
    {
     "data": {
      "application/vnd.jupyter.widget-view+json": {
       "model_id": "",
       "version_major": 2,
       "version_minor": 0
      },
      "text/plain": [
       "Validation: |          | 0/? [00:00<?, ?it/s]"
      ]
     },
     "metadata": {},
     "output_type": "display_data"
    },
    {
     "name": "stderr",
     "output_type": "stream",
     "text": [
      "Metric val/tas/rmse improved by 0.078 >= min_delta = 0.001. New best score: 1.410\n"
     ]
    },
    {
     "name": "stdout",
     "output_type": "stream",
     "text": [
      "[VAL] tas: RMSE=1.4095, Time-Mean RMSE=0.6496, Time-Stddev MAE=0.4195\n"
     ]
    },
    {
     "data": {
      "application/vnd.jupyter.widget-view+json": {
       "model_id": "",
       "version_major": 2,
       "version_minor": 0
      },
      "text/plain": [
       "Validation: |          | 0/? [00:00<?, ?it/s]"
      ]
     },
     "metadata": {},
     "output_type": "display_data"
    },
    {
     "name": "stdout",
     "output_type": "stream",
     "text": [
      "[VAL] tas: RMSE=1.5559, Time-Mean RMSE=0.7061, Time-Stddev MAE=0.4108\n"
     ]
    },
    {
     "data": {
      "application/vnd.jupyter.widget-view+json": {
       "model_id": "",
       "version_major": 2,
       "version_minor": 0
      },
      "text/plain": [
       "Validation: |          | 0/? [00:00<?, ?it/s]"
      ]
     },
     "metadata": {},
     "output_type": "display_data"
    },
    {
     "name": "stdout",
     "output_type": "stream",
     "text": [
      "[VAL] tas: RMSE=1.4224, Time-Mean RMSE=0.7050, Time-Stddev MAE=0.3905\n"
     ]
    },
    {
     "data": {
      "application/vnd.jupyter.widget-view+json": {
       "model_id": "",
       "version_major": 2,
       "version_minor": 0
      },
      "text/plain": [
       "Validation: |          | 0/? [00:00<?, ?it/s]"
      ]
     },
     "metadata": {},
     "output_type": "display_data"
    },
    {
     "name": "stderr",
     "output_type": "stream",
     "text": [
      "Metric val/tas/rmse improved by 0.065 >= min_delta = 0.001. New best score: 1.344\n"
     ]
    },
    {
     "name": "stdout",
     "output_type": "stream",
     "text": [
      "[VAL] tas: RMSE=1.3443, Time-Mean RMSE=0.6060, Time-Stddev MAE=0.4222\n"
     ]
    },
    {
     "data": {
      "application/vnd.jupyter.widget-view+json": {
       "model_id": "",
       "version_major": 2,
       "version_minor": 0
      },
      "text/plain": [
       "Validation: |          | 0/? [00:00<?, ?it/s]"
      ]
     },
     "metadata": {},
     "output_type": "display_data"
    },
    {
     "name": "stdout",
     "output_type": "stream",
     "text": [
      "[VAL] tas: RMSE=1.4123, Time-Mean RMSE=0.7506, Time-Stddev MAE=0.4051\n"
     ]
    },
    {
     "data": {
      "application/vnd.jupyter.widget-view+json": {
       "model_id": "",
       "version_major": 2,
       "version_minor": 0
      },
      "text/plain": [
       "Validation: |          | 0/? [00:00<?, ?it/s]"
      ]
     },
     "metadata": {},
     "output_type": "display_data"
    },
    {
     "name": "stdout",
     "output_type": "stream",
     "text": [
      "[VAL] tas: RMSE=1.3698, Time-Mean RMSE=0.7082, Time-Stddev MAE=0.4269\n"
     ]
    },
    {
     "data": {
      "application/vnd.jupyter.widget-view+json": {
       "model_id": "",
       "version_major": 2,
       "version_minor": 0
      },
      "text/plain": [
       "Validation: |          | 0/? [00:00<?, ?it/s]"
      ]
     },
     "metadata": {},
     "output_type": "display_data"
    },
    {
     "name": "stdout",
     "output_type": "stream",
     "text": [
      "[VAL] tas: RMSE=1.3529, Time-Mean RMSE=0.6406, Time-Stddev MAE=0.4346\n"
     ]
    },
    {
     "data": {
      "application/vnd.jupyter.widget-view+json": {
       "model_id": "",
       "version_major": 2,
       "version_minor": 0
      },
      "text/plain": [
       "Validation: |          | 0/? [00:00<?, ?it/s]"
      ]
     },
     "metadata": {},
     "output_type": "display_data"
    },
    {
     "name": "stdout",
     "output_type": "stream",
     "text": [
      "[VAL] tas: RMSE=1.3779, Time-Mean RMSE=0.6366, Time-Stddev MAE=0.4401\n"
     ]
    },
    {
     "data": {
      "application/vnd.jupyter.widget-view+json": {
       "model_id": "",
       "version_major": 2,
       "version_minor": 0
      },
      "text/plain": [
       "Validation: |          | 0/? [00:00<?, ?it/s]"
      ]
     },
     "metadata": {},
     "output_type": "display_data"
    },
    {
     "name": "stderr",
     "output_type": "stream",
     "text": [
      "Metric val/tas/rmse improved by 0.060 >= min_delta = 0.001. New best score: 1.285\n"
     ]
    },
    {
     "name": "stdout",
     "output_type": "stream",
     "text": [
      "[VAL] tas: RMSE=1.2846, Time-Mean RMSE=0.5585, Time-Stddev MAE=0.3792\n"
     ]
    },
    {
     "data": {
      "application/vnd.jupyter.widget-view+json": {
       "model_id": "",
       "version_major": 2,
       "version_minor": 0
      },
      "text/plain": [
       "Validation: |          | 0/? [00:00<?, ?it/s]"
      ]
     },
     "metadata": {},
     "output_type": "display_data"
    },
    {
     "name": "stdout",
     "output_type": "stream",
     "text": [
      "[VAL] tas: RMSE=1.3045, Time-Mean RMSE=0.6258, Time-Stddev MAE=0.4390\n"
     ]
    },
    {
     "data": {
      "application/vnd.jupyter.widget-view+json": {
       "model_id": "",
       "version_major": 2,
       "version_minor": 0
      },
      "text/plain": [
       "Validation: |          | 0/? [00:00<?, ?it/s]"
      ]
     },
     "metadata": {},
     "output_type": "display_data"
    },
    {
     "name": "stderr",
     "output_type": "stream",
     "text": [
      "Metric val/tas/rmse improved by 0.026 >= min_delta = 0.001. New best score: 1.259\n"
     ]
    },
    {
     "name": "stdout",
     "output_type": "stream",
     "text": [
      "[VAL] tas: RMSE=1.2586, Time-Mean RMSE=0.6174, Time-Stddev MAE=0.3516\n"
     ]
    },
    {
     "data": {
      "application/vnd.jupyter.widget-view+json": {
       "model_id": "",
       "version_major": 2,
       "version_minor": 0
      },
      "text/plain": [
       "Validation: |          | 0/? [00:00<?, ?it/s]"
      ]
     },
     "metadata": {},
     "output_type": "display_data"
    },
    {
     "name": "stderr",
     "output_type": "stream",
     "text": [
      "Metric val/tas/rmse improved by 0.008 >= min_delta = 0.001. New best score: 1.250\n"
     ]
    },
    {
     "name": "stdout",
     "output_type": "stream",
     "text": [
      "[VAL] tas: RMSE=1.2501, Time-Mean RMSE=0.6103, Time-Stddev MAE=0.3605\n"
     ]
    },
    {
     "data": {
      "application/vnd.jupyter.widget-view+json": {
       "model_id": "",
       "version_major": 2,
       "version_minor": 0
      },
      "text/plain": [
       "Validation: |          | 0/? [00:00<?, ?it/s]"
      ]
     },
     "metadata": {},
     "output_type": "display_data"
    },
    {
     "name": "stdout",
     "output_type": "stream",
     "text": [
      "[VAL] tas: RMSE=1.2679, Time-Mean RMSE=0.5716, Time-Stddev MAE=0.4053\n"
     ]
    },
    {
     "data": {
      "application/vnd.jupyter.widget-view+json": {
       "model_id": "",
       "version_major": 2,
       "version_minor": 0
      },
      "text/plain": [
       "Validation: |          | 0/? [00:00<?, ?it/s]"
      ]
     },
     "metadata": {},
     "output_type": "display_data"
    },
    {
     "name": "stderr",
     "output_type": "stream",
     "text": [
      "Metric val/tas/rmse improved by 0.013 >= min_delta = 0.001. New best score: 1.238\n"
     ]
    },
    {
     "name": "stdout",
     "output_type": "stream",
     "text": [
      "[VAL] tas: RMSE=1.2376, Time-Mean RMSE=0.5901, Time-Stddev MAE=0.3703\n"
     ]
    },
    {
     "data": {
      "application/vnd.jupyter.widget-view+json": {
       "model_id": "",
       "version_major": 2,
       "version_minor": 0
      },
      "text/plain": [
       "Validation: |          | 0/? [00:00<?, ?it/s]"
      ]
     },
     "metadata": {},
     "output_type": "display_data"
    },
    {
     "name": "stderr",
     "output_type": "stream",
     "text": [
      "Metric val/tas/rmse improved by 0.012 >= min_delta = 0.001. New best score: 1.225\n"
     ]
    },
    {
     "name": "stdout",
     "output_type": "stream",
     "text": [
      "[VAL] tas: RMSE=1.2254, Time-Mean RMSE=0.6023, Time-Stddev MAE=0.3656\n"
     ]
    },
    {
     "data": {
      "application/vnd.jupyter.widget-view+json": {
       "model_id": "",
       "version_major": 2,
       "version_minor": 0
      },
      "text/plain": [
       "Validation: |          | 0/? [00:00<?, ?it/s]"
      ]
     },
     "metadata": {},
     "output_type": "display_data"
    },
    {
     "name": "stdout",
     "output_type": "stream",
     "text": [
      "[VAL] tas: RMSE=1.3315, Time-Mean RMSE=0.7358, Time-Stddev MAE=0.3086\n"
     ]
    },
    {
     "data": {
      "application/vnd.jupyter.widget-view+json": {
       "model_id": "",
       "version_major": 2,
       "version_minor": 0
      },
      "text/plain": [
       "Validation: |          | 0/? [00:00<?, ?it/s]"
      ]
     },
     "metadata": {},
     "output_type": "display_data"
    },
    {
     "name": "stderr",
     "output_type": "stream",
     "text": [
      "Metric val/tas/rmse improved by 0.027 >= min_delta = 0.001. New best score: 1.199\n"
     ]
    },
    {
     "name": "stdout",
     "output_type": "stream",
     "text": [
      "[VAL] tas: RMSE=1.1987, Time-Mean RMSE=0.5043, Time-Stddev MAE=0.3893\n"
     ]
    },
    {
     "data": {
      "application/vnd.jupyter.widget-view+json": {
       "model_id": "",
       "version_major": 2,
       "version_minor": 0
      },
      "text/plain": [
       "Validation: |          | 0/? [00:00<?, ?it/s]"
      ]
     },
     "metadata": {},
     "output_type": "display_data"
    },
    {
     "name": "stderr",
     "output_type": "stream",
     "text": [
      "Metric val/tas/rmse improved by 0.044 >= min_delta = 0.001. New best score: 1.155\n"
     ]
    },
    {
     "name": "stdout",
     "output_type": "stream",
     "text": [
      "[VAL] tas: RMSE=1.1549, Time-Mean RMSE=0.5127, Time-Stddev MAE=0.3278\n"
     ]
    },
    {
     "data": {
      "application/vnd.jupyter.widget-view+json": {
       "model_id": "",
       "version_major": 2,
       "version_minor": 0
      },
      "text/plain": [
       "Validation: |          | 0/? [00:00<?, ?it/s]"
      ]
     },
     "metadata": {},
     "output_type": "display_data"
    },
    {
     "name": "stdout",
     "output_type": "stream",
     "text": [
      "[VAL] tas: RMSE=1.2801, Time-Mean RMSE=0.7229, Time-Stddev MAE=0.3884\n"
     ]
    },
    {
     "data": {
      "application/vnd.jupyter.widget-view+json": {
       "model_id": "",
       "version_major": 2,
       "version_minor": 0
      },
      "text/plain": [
       "Validation: |          | 0/? [00:00<?, ?it/s]"
      ]
     },
     "metadata": {},
     "output_type": "display_data"
    },
    {
     "name": "stdout",
     "output_type": "stream",
     "text": [
      "[VAL] tas: RMSE=1.3342, Time-Mean RMSE=0.7284, Time-Stddev MAE=0.4313\n"
     ]
    },
    {
     "data": {
      "application/vnd.jupyter.widget-view+json": {
       "model_id": "",
       "version_major": 2,
       "version_minor": 0
      },
      "text/plain": [
       "Validation: |          | 0/? [00:00<?, ?it/s]"
      ]
     },
     "metadata": {},
     "output_type": "display_data"
    },
    {
     "name": "stdout",
     "output_type": "stream",
     "text": [
      "[VAL] tas: RMSE=1.1704, Time-Mean RMSE=0.5849, Time-Stddev MAE=0.3406\n"
     ]
    },
    {
     "data": {
      "application/vnd.jupyter.widget-view+json": {
       "model_id": "",
       "version_major": 2,
       "version_minor": 0
      },
      "text/plain": [
       "Validation: |          | 0/? [00:00<?, ?it/s]"
      ]
     },
     "metadata": {},
     "output_type": "display_data"
    },
    {
     "name": "stdout",
     "output_type": "stream",
     "text": [
      "[VAL] tas: RMSE=1.2587, Time-Mean RMSE=0.7029, Time-Stddev MAE=0.3175\n"
     ]
    },
    {
     "data": {
      "application/vnd.jupyter.widget-view+json": {
       "model_id": "",
       "version_major": 2,
       "version_minor": 0
      },
      "text/plain": [
       "Validation: |          | 0/? [00:00<?, ?it/s]"
      ]
     },
     "metadata": {},
     "output_type": "display_data"
    },
    {
     "name": "stderr",
     "output_type": "stream",
     "text": [
      "Metric val/tas/rmse improved by 0.022 >= min_delta = 0.001. New best score: 1.133\n"
     ]
    },
    {
     "name": "stdout",
     "output_type": "stream",
     "text": [
      "[VAL] tas: RMSE=1.1327, Time-Mean RMSE=0.4966, Time-Stddev MAE=0.3239\n"
     ]
    },
    {
     "data": {
      "application/vnd.jupyter.widget-view+json": {
       "model_id": "",
       "version_major": 2,
       "version_minor": 0
      },
      "text/plain": [
       "Validation: |          | 0/? [00:00<?, ?it/s]"
      ]
     },
     "metadata": {},
     "output_type": "display_data"
    },
    {
     "name": "stdout",
     "output_type": "stream",
     "text": [
      "[VAL] tas: RMSE=1.2501, Time-Mean RMSE=0.6654, Time-Stddev MAE=0.3313\n"
     ]
    },
    {
     "data": {
      "application/vnd.jupyter.widget-view+json": {
       "model_id": "",
       "version_major": 2,
       "version_minor": 0
      },
      "text/plain": [
       "Validation: |          | 0/? [00:00<?, ?it/s]"
      ]
     },
     "metadata": {},
     "output_type": "display_data"
    },
    {
     "name": "stdout",
     "output_type": "stream",
     "text": [
      "[VAL] tas: RMSE=1.1752, Time-Mean RMSE=0.4931, Time-Stddev MAE=0.3557\n"
     ]
    },
    {
     "data": {
      "application/vnd.jupyter.widget-view+json": {
       "model_id": "",
       "version_major": 2,
       "version_minor": 0
      },
      "text/plain": [
       "Validation: |          | 0/? [00:00<?, ?it/s]"
      ]
     },
     "metadata": {},
     "output_type": "display_data"
    },
    {
     "name": "stdout",
     "output_type": "stream",
     "text": [
      "[VAL] tas: RMSE=1.1672, Time-Mean RMSE=0.5634, Time-Stddev MAE=0.3238\n"
     ]
    },
    {
     "data": {
      "application/vnd.jupyter.widget-view+json": {
       "model_id": "",
       "version_major": 2,
       "version_minor": 0
      },
      "text/plain": [
       "Validation: |          | 0/? [00:00<?, ?it/s]"
      ]
     },
     "metadata": {},
     "output_type": "display_data"
    },
    {
     "name": "stdout",
     "output_type": "stream",
     "text": [
      "[VAL] tas: RMSE=1.1342, Time-Mean RMSE=0.5505, Time-Stddev MAE=0.3428\n"
     ]
    },
    {
     "data": {
      "application/vnd.jupyter.widget-view+json": {
       "model_id": "",
       "version_major": 2,
       "version_minor": 0
      },
      "text/plain": [
       "Validation: |          | 0/? [00:00<?, ?it/s]"
      ]
     },
     "metadata": {},
     "output_type": "display_data"
    },
    {
     "name": "stderr",
     "output_type": "stream",
     "text": [
      "Monitored metric val/tas/rmse did not improve in the last 5 records. Best score: 1.133. Signaling Trainer to stop.\n"
     ]
    },
    {
     "name": "stdout",
     "output_type": "stream",
     "text": [
      "[VAL] tas: RMSE=1.4714, Time-Mean RMSE=0.8769, Time-Stddev MAE=0.3732\n",
      "Training finished.\n"
     ]
    }
   ],
   "source": [
    "# Train the model\n",
    "print(\"Starting training...\")\n",
    "trainer.fit(climate_model, cdm)\n",
    "print(\"Training finished.\")"
   ]
  },
  {
   "cell_type": "code",
   "execution_count": 1,
   "metadata": {
    "editable": true,
    "slideshow": {
     "slide_type": ""
    },
    "tags": []
   },
   "outputs": [
    {
     "ename": "NameError",
     "evalue": "name 'trainer' is not defined",
     "output_type": "error",
     "traceback": [
      "\u001b[0;31m---------------------------------------------------------------------------\u001b[0m",
      "\u001b[0;31mNameError\u001b[0m                                 Traceback (most recent call last)",
      "Cell \u001b[0;32mIn[1], line 1\u001b[0m\n\u001b[0;32m----> 1\u001b[0m \u001b[43mtrainer\u001b[49m\u001b[38;5;241m.\u001b[39mtest(climate_model, datamodule\u001b[38;5;241m=\u001b[39mcdm) \n",
      "\u001b[0;31mNameError\u001b[0m: name 'trainer' is not defined"
     ]
    }
   ],
   "source": [
    "trainer.test(climate_model, datamodule=cdm) "
   ]
  },
  {
   "cell_type": "markdown",
   "metadata": {},
   "source": [
    "# Test model\n",
    "\n",
    "**IMPORTANT:** Please note that the test metrics will be bad because the test targets have been corrupted on the public Kaggle dataset.\n",
    "The purpose of testing below is to generate the Kaggle submission file based on your model's predictions, which you can submit to the competition."
   ]
  },
  {
   "cell_type": "markdown",
   "metadata": {},
   "source": [
    "### Plotting Utils\n"
   ]
  },
  {
   "cell_type": "code",
   "execution_count": 23,
   "metadata": {},
   "outputs": [],
   "source": [
    "def plot_comparison(true_xr, pred_xr, title, cmap='viridis', diff_cmap='RdBu_r', metric=None):\n",
    "    fig, axs = plt.subplots(1, 3, figsize=(18, 6))\n",
    "\n",
    "    vmin = min(true_xr.min().item(), pred_xr.min().item())\n",
    "    vmax = max(true_xr.max().item(), pred_xr.max().item())\n",
    "\n",
    "    # Ground truth\n",
    "    true_xr.plot(ax=axs[0], cmap=cmap, vmin=vmin, vmax=vmax, add_colorbar=True)\n",
    "    axs[0].set_title(f\"{title} (Ground Truth)\")\n",
    "\n",
    "    # Prediction\n",
    "    pred_xr.plot(ax=axs[1], cmap=cmap, vmin=vmin, vmax=vmax, add_colorbar=True)\n",
    "    axs[1].set_title(f\"{title} (Prediction)\")\n",
    "\n",
    "    # Difference\n",
    "    diff = pred_xr - true_xr\n",
    "    abs_max = np.max(np.abs(diff))\n",
    "    diff.plot(ax=axs[2], cmap=diff_cmap, vmin=-abs_max, vmax=abs_max, add_colorbar=True)\n",
    "    axs[2].set_title(f\"{title} (Difference) {f'- {metric:.4f}' if metric else ''}\")\n",
    "\n",
    "    plt.tight_layout()\n",
    "    plt.show()\n"
   ]
  },
  {
   "cell_type": "markdown",
   "metadata": {},
   "source": [
    "### 🖼️ Visualizing Validation Predictions\n",
    "\n",
    "This cell loads saved validation predictions and compares them to the ground truth using spatial plots. These visualizations help you qualitatively assess your model's performance.\n",
    "\n",
    "For each output variable (`tas`, `pr`), we visualize:\n",
    "\n",
    "- **📈 Time-Mean Map**: The 10-year average spatial pattern for both prediction and ground truth. Helps identify long-term biases or spatial shifts.\n",
    "- **📊 Time-Stddev Map**: Shows the standard deviation across time for each grid cell — useful for assessing how well the model captures **temporal variability** at each location.\n",
    "- **🕓 Random Timestep Sample**: Visual comparison of prediction vs ground truth for a single month. Useful for spotting fine-grained anomalies or errors in specific months.\n",
    "\n",
    "> These plots provide intuition beyond metrics and are useful for debugging spatial or temporal model failures.\n"
   ]
  },
  {
   "cell_type": "code",
   "execution_count": 24,
   "metadata": {},
   "outputs": [
    {
     "ename": "NameError",
     "evalue": "name 'datamodule' is not defined",
     "output_type": "error",
     "traceback": [
      "\u001b[0;31m---------------------------------------------------------------------------\u001b[0m",
      "\u001b[0;31mNameError\u001b[0m                                 Traceback (most recent call last)",
      "Cell \u001b[0;32mIn[24], line 6\u001b[0m\n\u001b[1;32m      3\u001b[0m val_preds \u001b[38;5;241m=\u001b[39m np\u001b[38;5;241m.\u001b[39mload(\u001b[38;5;124m\"\u001b[39m\u001b[38;5;124mval_preds.npy\u001b[39m\u001b[38;5;124m\"\u001b[39m)\n\u001b[1;32m      4\u001b[0m val_trues \u001b[38;5;241m=\u001b[39m np\u001b[38;5;241m.\u001b[39mload(\u001b[38;5;124m\"\u001b[39m\u001b[38;5;124mval_trues.npy\u001b[39m\u001b[38;5;124m\"\u001b[39m)\n\u001b[0;32m----> 6\u001b[0m lat, lon \u001b[38;5;241m=\u001b[39m \u001b[43mdatamodule\u001b[49m\u001b[38;5;241m.\u001b[39mget_coords()\n\u001b[1;32m      7\u001b[0m output_vars \u001b[38;5;241m=\u001b[39m datamodule\u001b[38;5;241m.\u001b[39moutput_vars\n\u001b[1;32m      8\u001b[0m time \u001b[38;5;241m=\u001b[39m np\u001b[38;5;241m.\u001b[39marange(val_preds\u001b[38;5;241m.\u001b[39mshape[\u001b[38;5;241m0\u001b[39m])\n",
      "\u001b[0;31mNameError\u001b[0m: name 'datamodule' is not defined"
     ]
    }
   ],
   "source": [
    "# Load validation predictions\n",
    "# make sure to have run the validation loop at least once\n",
    "val_preds = np.load(\"val_preds.npy\")\n",
    "val_trues = np.load(\"val_trues.npy\")\n",
    "\n",
    "lat, lon = datamodule.get_coords()\n",
    "output_vars = datamodule.output_vars\n",
    "time = np.arange(val_preds.shape[0])\n",
    "\n",
    "for i, var in enumerate(output_vars):\n",
    "    pred_xr = xr.DataArray(val_preds[:, i], dims=[\"time\", \"y\", \"x\"], coords={\"time\": time, \"y\": lat, \"x\": lon})\n",
    "    true_xr = xr.DataArray(val_trues[:, i], dims=[\"time\", \"y\", \"x\"], coords={\"time\": time, \"y\": lat, \"x\": lon})\n",
    "\n",
    "    # --- Time Mean ---\n",
    "    plot_comparison(true_xr.mean(\"time\"), pred_xr.mean(\"time\"), f\"{var} Val Time-Mean\")\n",
    "\n",
    "    # --- Time Stddev ---\n",
    "    plot_comparison(true_xr.std(\"time\"), pred_xr.std(\"time\"), f\"{var} Val Time-Stddev\", cmap=\"plasma\")\n",
    "\n",
    "    # --- Random timestep ---\n",
    "    t_idx = np.random.randint(0, len(time))\n",
    "    plot_comparison(true_xr.isel(time=t_idx), pred_xr.isel(time=t_idx), f\"{var} Val Sample Timestep {t_idx}\")\n"
   ]
  },
  {
   "cell_type": "code",
   "execution_count": null,
   "metadata": {},
   "outputs": [],
   "source": [
    "## Training Vs. Validation Loss"
   ]
  },
  {
   "cell_type": "code",
   "execution_count": null,
   "metadata": {},
   "outputs": [],
   "source": [
    "\n",
    "train_losses = trainer.model.training_loss  # List of batch losses\n",
    "val_losses = trainer.model.val_loss          # List of validation batch losses\n",
    "\n",
    "plt.plot(train_losses, label='Training Loss (per batch)')\n",
    "plt.plot(val_losses, label='Validation Loss (per batch)')\n",
    "plt.xlabel('Batch Index')\n",
    "plt.ylabel('Loss')\n",
    "plt.legend()\n",
    "plt.show()\n"
   ]
  },
  {
   "cell_type": "markdown",
   "metadata": {},
   "source": [
    "## 🧪 Final Notes\n",
    "\n",
    "This notebook is meant to serve as a **baseline template** — a starting point to help you get up and running quickly with the climate emulation challenge.\n",
    "\n",
    "You are **not** required to stick to this exact setup. In fact, we **encourage** you to:\n",
    "\n",
    "- 🔁 Build on top of the provided `DataModule`. \n",
    "- 🧠 Use your own model architectures or training pipelines that you’re more comfortable with \n",
    "- ⚗️ Experiment with ideas  \n",
    "- 🥇 Compete creatively to climb the Kaggle leaderboard  \n",
    "- 🙌 Most importantly: **have fun** and **learn as much as you can** along the way\n",
    "\n",
    "This challenge simulates a real-world scientific problem, and there’s no single \"correct\" approach — so be curious, experiment boldly, and make it your own!\n"
   ]
  },
  {
   "cell_type": "code",
   "execution_count": null,
   "metadata": {},
   "outputs": [],
   "source": [
    "import matplotlib.pyplot as plt\n",
    "import numpy as np\n",
    "\n",
    "# Assuming 'climate_model' is your trained ClimateEmulationModule instance\n",
    "# and 'cdm' is your ClimateDataModule instance.\n",
    "\n",
    "# These lists contain per-batch losses accumulated during training\n",
    "training_batch_losses = climate_model.training_loss\n",
    "validation_batch_losses = climate_model.val_loss\n",
    "\n",
    "# Get the number of batches per epoch from your dataloaders\n",
    "# This is important for correctly averaging per epoch\n",
    "num_train_batches_per_epoch = len(cdm.train_dataloader())\n",
    "num_val_batches_per_epoch = len(cdm.val_dataloader())\n",
    "\n",
    "# Calculate average training loss per epoch\n",
    "avg_train_loss_per_epoch = []\n",
    "if num_train_batches_per_epoch > 0:\n",
    "    num_train_epochs_completed = len(training_batch_losses) // num_train_batches_per_epoch\n",
    "    for i in range(num_train_epochs_completed):\n",
    "        start_idx = i * num_train_batches_per_epoch\n",
    "        end_idx = start_idx + num_train_batches_per_epoch\n",
    "        epoch_train_losses = training_batch_losses[start_idx:end_idx]\n",
    "        if epoch_train_losses: # Make sure there are losses to average\n",
    "            avg_train_loss_per_epoch.append(np.mean(epoch_train_losses))\n",
    "\n",
    "# Calculate average validation loss per epoch\n",
    "avg_val_loss_per_epoch = []\n",
    "if num_val_batches_per_epoch > 0:\n",
    "    num_val_epochs_completed = len(validation_batch_losses) // num_val_batches_per_epoch\n",
    "    for i in range(num_val_epochs_completed):\n",
    "        start_idx = i * num_val_batches_per_epoch\n",
    "        end_idx = start_idx + num_val_batches_per_epoch\n",
    "        epoch_val_losses = validation_batch_losses[start_idx:end_idx]\n",
    "        if epoch_val_losses: # Make sure there are losses to average\n",
    "            avg_val_loss_per_epoch.append(np.mean(epoch_val_losses))\n",
    "\n",
    "# Create epoch arrays for plotting\n",
    "epochs_train = np.arange(1, len(avg_train_loss_per_epoch) + 1)\n",
    "epochs_val = np.arange(1, len(avg_val_loss_per_epoch) + 1)\n",
    "\n",
    "# Plotting\n",
    "plt.figure(figsize=(10, 6))\n",
    "if avg_train_loss_per_epoch:\n",
    "    plt.plot(epochs_train, avg_train_loss_per_epoch, 'o-', label='Average Training Loss per Epoch')\n",
    "else:\n",
    "    print(\"No average training loss data to plot.\")\n",
    "\n",
    "if avg_val_loss_per_epoch:\n",
    "    plt.plot(epochs_val, avg_val_loss_per_epoch, 'o-', label='Average Validation Loss per Epoch')\n",
    "else:\n",
    "    print(\"No average validation loss data to plot. This might happen if validation_batch_losses was empty or num_val_batches_per_epoch was zero.\")\n",
    "\n",
    "\n",
    "plt.title('Average Loss per Epoch')\n",
    "plt.xlabel('Epoch')\n",
    "plt.ylabel('Average Loss')\n",
    "plt.legend()\n",
    "plt.grid(True)\n",
    "# Ensure integer ticks for epochs if data is available\n",
    "if len(epochs_train) > 0 or len(epochs_val) > 0:\n",
    "    max_epoch = max(len(epochs_train), len(epochs_val))\n",
    "    if max_epoch > 0 :\n",
    "        plt.xticks(np.arange(1, max_epoch + 1, step=max(1, max_epoch // 10))) # Adjust step for readability\n",
    "\n",
    "plt.show()\n",
    "\n",
    "# As a sanity check, print the number of epochs for which data was found\n",
    "print(f\"Number of epochs for average training loss: {len(avg_train_loss_per_epoch)}\")\n",
    "print(f\"Number of epochs for average validation loss: {len(avg_val_loss_per_epoch)}\")\n",
    "print(f\"Total training batches recorded: {len(training_batch_losses)}\")\n",
    "print(f\"Total validation batches recorded: {len(validation_batch_losses)}\")\n",
    "if hasattr(trainer, 'current_epoch'):\n",
    "    print(f\"Trainer current epoch (0-indexed for last completed, so +1 for count): {trainer.current_epoch +1 }\")"
   ]
  },
  {
   "cell_type": "code",
   "execution_count": null,
   "metadata": {},
   "outputs": [],
   "source": []
  },
  {
   "cell_type": "code",
   "execution_count": null,
   "metadata": {},
   "outputs": [],
   "source": []
  },
  {
   "cell_type": "code",
   "execution_count": null,
   "metadata": {},
   "outputs": [],
   "source": []
  }
 ],
 "metadata": {
  "kaggle": {
   "accelerator": "none",
   "dataSources": [],
   "isGpuEnabled": false,
   "isInternetEnabled": true,
   "language": "python",
   "sourceType": "notebook"
  },
  "kernelspec": {
   "display_name": "Python 3 (ipykernel)",
   "language": "python",
   "name": "python3"
  },
  "language_info": {
   "codemirror_mode": {
    "name": "ipython",
    "version": 3
   },
   "file_extension": ".py",
   "mimetype": "text/x-python",
   "name": "python",
   "nbconvert_exporter": "python",
   "pygments_lexer": "ipython3",
   "version": "3.11.9"
  }
 },
 "nbformat": 4,
 "nbformat_minor": 4
}
